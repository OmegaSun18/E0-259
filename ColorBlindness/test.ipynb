{
 "cells": [
  {
   "cell_type": "code",
   "execution_count": 10,
   "metadata": {},
   "outputs": [],
   "source": [
    "import numpy as np\n",
    "import matplotlib.pyplot as plt\n",
    "import pandas as pd\n",
    "import seaborn as sns\n",
    "from tqdm import tqdm\n",
    "from typing import Tuple, List, Any, Union, Optional\n",
    "from joblib import Parallel, delayed"
   ]
  },
  {
   "cell_type": "code",
   "execution_count": 11,
   "metadata": {},
   "outputs": [],
   "source": [
    "# Read the reference sequence from chrX.fa\n",
    "# >chrX\n",
    "# line\n",
    "# line\n",
    "\n",
    "def readFasta(file) -> str:\n",
    "    lines = np.loadtxt(file, dtype=str)\n",
    "    # Remove the first line\n",
    "    lines = lines[1:]\n",
    "    seq = ''.join(lines)\n",
    "    return seq\n"
   ]
  },
  {
   "cell_type": "code",
   "execution_count": 12,
   "metadata": {},
   "outputs": [],
   "source": [
    "# Get the last column of the BWT by reading the chrX_last_col.txt file\n",
    "# this last column will have one extra character which is the $ sign\n",
    "def readFastcol(file) -> str:\n",
    "    lines = np.loadtxt(file, dtype=str)\n",
    "    lastCol = ''.join(lines)\n",
    "    return lastCol\n"
   ]
  },
  {
   "cell_type": "code",
   "execution_count": 13,
   "metadata": {},
   "outputs": [],
   "source": [
    "# Get the first column of the BWT by sorting the last column\n",
    "def getFirstcol(last_col) -> str:\n",
    "    firstCol = ''.join(sorted(last_col))\n",
    "    firstCol = firstCol.replace('$', '') + '$'\n",
    "    #Give the index of the last A\n",
    "    print(firstCol.index('A'))\n",
    "    return firstCol"
   ]
  },
  {
   "cell_type": "code",
   "execution_count": 14,
   "metadata": {},
   "outputs": [],
   "source": [
    "# Get the list of reads from the reads file\n",
    "def getReads(file: str) -> np.ndarray[str]:\n",
    "    reads = np.loadtxt(file, dtype=str)\n",
    "    return reads"
   ]
  },
  {
   "cell_type": "code",
   "execution_count": 15,
   "metadata": {},
   "outputs": [],
   "source": [
    "#Get the mapping of the last column characters to the reference sequence\n",
    "def getMapping(file) -> np.ndarray[int]:\n",
    "    lines = np.loadtxt(file, dtype=int)\n",
    "    return lines"
   ]
  },
  {
   "cell_type": "code",
   "execution_count": 62,
   "metadata": {},
   "outputs": [],
   "source": [
    "#initialize 4 arrays for milestones of the four characters A, C, G, T - these will be used by the rank query\n",
    "AMilestones = []\n",
    "CMilestones = []\n",
    "GMilestones = []\n",
    "TMilestones = []\n",
    "controlA = controlC = controlG = controlT = 0\n",
    "milestone = 1000"
   ]
  },
  {
   "cell_type": "code",
   "execution_count": 7,
   "metadata": {},
   "outputs": [
    {
     "ename": "KeyboardInterrupt",
     "evalue": "",
     "output_type": "error",
     "traceback": [
      "\u001b[1;31m---------------------------------------------------------------------------\u001b[0m",
      "\u001b[1;31mKeyboardInterrupt\u001b[0m                         Traceback (most recent call last)",
      "Cell \u001b[1;32mIn[7], line 1\u001b[0m\n\u001b[1;32m----> 1\u001b[0m reference \u001b[38;5;241m=\u001b[39m \u001b[43mreadFasta\u001b[49m\u001b[43m(\u001b[49m\u001b[38;5;124;43m'\u001b[39;49m\u001b[38;5;124;43mchrX.fa\u001b[39;49m\u001b[38;5;124;43m'\u001b[39;49m\u001b[43m)\u001b[49m\n",
      "\u001b[1;31mKeyboardInterrupt\u001b[0m: "
     ]
    }
   ],
   "source": [
    "reference = readFasta('chrX.fa')"
   ]
  },
  {
   "cell_type": "code",
   "execution_count": 64,
   "metadata": {},
   "outputs": [
    {
     "name": "stdout",
     "output_type": "stream",
     "text": [
      "Reference sequence length: 151100560\n"
     ]
    }
   ],
   "source": [
    "print('Reference sequence length:', len(reference))"
   ]
  },
  {
   "cell_type": "code",
   "execution_count": 156,
   "metadata": {},
   "outputs": [
    {
     "data": {
      "text/plain": [
       "'C'"
      ]
     },
     "execution_count": 156,
     "metadata": {},
     "output_type": "execute_result"
    }
   ],
   "source": [
    "reference[0]"
   ]
  },
  {
   "cell_type": "code",
   "execution_count": 49,
   "metadata": {},
   "outputs": [],
   "source": [
    "def createMilestones(BWT, milestone) -> Tuple[np.ndarray[int], np.ndarray[int], np.ndarray[int], np.ndarray[int]]:\n",
    "    AMilestones = []\n",
    "    CMilestones = []\n",
    "    GMilestones = []\n",
    "    TMilestones = []\n",
    "    controlA = controlC = controlG = controlT = 0\n",
    "\n",
    "    for element in range(len(BWT)):\n",
    "        if BWT[element] == 'A':\n",
    "            controlA += 1\n",
    "        elif BWT[element] == 'C':\n",
    "            controlC += 1\n",
    "        elif BWT[element] == 'G':\n",
    "            controlG += 1\n",
    "        elif BWT[element] == 'T':\n",
    "            controlT += 1\n",
    "        else:\n",
    "            pass\n",
    "\n",
    "        if element % milestone == 0:\n",
    "            AMilestones.append(controlA)\n",
    "            CMilestones.append(controlC)\n",
    "            GMilestones.append(controlG)\n",
    "            TMilestones.append(controlT)\n",
    "        else:\n",
    "            pass\n",
    "\n",
    "    AMilestones.append(controlA)\n",
    "    CMilestones.append(controlC)\n",
    "    GMilestones.append(controlG)\n",
    "    TMilestones.append(controlT)\n",
    "\n",
    "    AMilestones = np.array(AMilestones)\n",
    "    CMilestones = np.array(CMilestones)\n",
    "    GMilestones = np.array(GMilestones)\n",
    "    TMilestones = np.array(TMilestones)\n",
    "    \n",
    "    #firstCol is a numpy array of the last index of each character in the first column\n",
    "    firstCol = np.array([AMilestones[-1] - 1, AMilestones[-1] + CMilestones[-1] - 1, AMilestones[-1] + CMilestones[-1] + GMilestones[-1] - 1, AMilestones[-1] + CMilestones[-1] + GMilestones[-1] + TMilestones[-1] - 1])\n",
    "    return AMilestones, CMilestones, GMilestones, TMilestones, firstCol\n"
   ]
  },
  {
   "cell_type": "code",
   "execution_count": 15,
   "metadata": {},
   "outputs": [],
   "source": [
    "def rankHelper(index, character, flag = True):\n",
    "    key = index // milestone\n",
    "    if character == 'A':\n",
    "        if flag:\n",
    "            return AMilestones[key]\n",
    "        else:\n",
    "            return AMilestones[key] + reference[key * milestone + 1 : index + 1].count(character)\n",
    "    elif character == 'C':\n",
    "        if flag:\n",
    "            return CMilestones[key]\n",
    "        else:\n",
    "            return CMilestones[key] + reference[key * milestone + 1 : index + 1].count(character)\n",
    "    elif character == 'G':\n",
    "        if flag:\n",
    "            return GMilestones[key]\n",
    "        else:\n",
    "            return GMilestones[key] + reference[key * milestone + 1 : index + 1].count(character)\n",
    "    elif character == 'T':\n",
    "        if flag:\n",
    "            return TMilestones[key]\n",
    "        else:\n",
    "            return TMilestones[key] + reference[key * milestone + 1 : index + 1].count(character)\n",
    "    else:\n",
    "        return 0"
   ]
  },
  {
   "cell_type": "code",
   "execution_count": 50,
   "metadata": {},
   "outputs": [],
   "source": [
    "def rank(lastCol, start, end, character, milestone, milestones) -> Tuple[int, int]:\n",
    "    #rank takes the reference sequence, start and end index, character and the milestone as input\n",
    "\n",
    "    startModulus = start % milestone\n",
    "    startFloor = start // milestone\n",
    "    if startModulus == 0:\n",
    "        firstLocation = milestones[startFloor] if (lastCol[start] == character) else (milestones[startFloor] + 1 if character in lastCol[start : end + 1] else -1)\n",
    "    else:\n",
    "        firstLocation = milestones[startFloor] + lastCol[startFloor * milestone + 1 : start + 1].count(character) if (lastCol[start] == character) else (milestones[startFloor] + lastCol[startFloor * milestone + 1 : start + 1].count(character) + 1 if character in lastCol[start : end + 1] else -1)\n",
    "\n",
    "    endModulus = end % milestone\n",
    "    endFloor = end // milestone\n",
    "    if endModulus == 0:\n",
    "        lastLocation = milestones[endFloor] if (lastCol[end] == character) else (milestones[endFloor] if character in lastCol[start : end + 1] else -1)\n",
    "    else:\n",
    "        lastLocation = milestones[endFloor] + lastCol[endFloor * milestone + 1 : end + 1].count(character) if (lastCol[end] == character) else (milestones[endFloor] + lastCol[endFloor * milestone + 1 : end + 1].count(character) if character in lastCol[start : end + 1] else -1)\n",
    "    return firstLocation, lastLocation"
   ]
  },
  {
   "cell_type": "code",
   "execution_count": 51,
   "metadata": {},
   "outputs": [],
   "source": [
    "def select(location, character, firstCol) -> int:\n",
    "    # select takes the index i and character as input\n",
    "    # Given index i, it returns the ith character in the first column of the BWT\n",
    "    # The firstCol is an array which has the last index of each character in the first column\n",
    "    # The firstCol array is created in the createMilestones function\n",
    "    if character == 'A':\n",
    "        return location - 1\n",
    "    elif character == 'C':\n",
    "        return firstCol[0] + location\n",
    "    elif character == 'G':\n",
    "        return firstCol[1] + location\n",
    "    elif character == 'T':\n",
    "        return firstCol[2] + location\n",
    "    else:\n",
    "        pass\n",
    "    return None"
   ]
  },
  {
   "cell_type": "code",
   "execution_count": 10,
   "metadata": {},
   "outputs": [],
   "source": [
    "def bandContraction(start, end, lastCol, letter, nextLetter, milestone, letterMilestones):\n",
    "    # bandContraction takes the start and end of the band, last column, letter, milestone, letterMilestones and i as input\n",
    "    #It performs rank query of letter on the last column to find the first and last occurences of letter\n",
    "    #Once it has the indices of first and last occurences of letter, it performs select query on the first column in between these indices to find the indices of the first and last occurences of nextLetter\n",
    "    #It then returns the indices of the first and last occurences of nextLetter as the new band\n",
    "    \n",
    "    return None"
   ]
  },
  {
   "cell_type": "code",
   "execution_count": 52,
   "metadata": {},
   "outputs": [],
   "source": [
    "def BWTMapper(splitReads, firstCol, lastCol, mapping, milestone, AMilestones, CMilestones, GMilestones, TMilestones) -> Tuple[np.ndarray[int], int]:\n",
    "    segment = -1\n",
    "    locations = []\n",
    "    for l in range(len(splitReads)):\n",
    "        # Initialize the range of the read to be the entire last column\n",
    "        start = 0\n",
    "        end = len(lastCol) - 1\n",
    "        # print(f'start = {start}, end = {end}, length of lastCol = {len(lastCol)}')\n",
    "        for i in range(len(splitReads[l]) - 1, -1, -1):\n",
    "            if splitReads[l][i] == 'A':\n",
    "                firstLocation, lastLocation = rank(lastCol, start, end, 'A',  milestone, AMilestones)\n",
    "                if firstLocation == -1 or lastLocation == -1:\n",
    "                    break\n",
    "                start, end = select(firstLocation, 'A', firstCol), select(lastLocation, 'A', firstCol)\n",
    "            elif splitReads[l][i] == 'C':\n",
    "                firstLocation, lastLocation = rank(lastCol, start, end, 'C',  milestone, CMilestones)\n",
    "                if firstLocation == -1 or lastLocation == -1:\n",
    "                    break                \n",
    "                start, end = select(firstLocation, 'C', firstCol), select(lastLocation, 'C', firstCol)\n",
    "            elif splitReads[l][i] == 'G':\n",
    "                firstLocation, lastLocation = rank(lastCol, start, end, 'G',  milestone, GMilestones)\n",
    "                if firstLocation == -1 or lastLocation == -1:\n",
    "                    break\n",
    "                start, end = select(firstLocation, 'G', firstCol), select(lastLocation, 'G', firstCol)\n",
    "            elif splitReads[l][i] == 'T':\n",
    "                firstLocation, lastLocation = rank(lastCol, start, end, 'T',  milestone, TMilestones)\n",
    "                if firstLocation == -1 or lastLocation == -1:\n",
    "                    break\n",
    "                start, end = select(firstLocation, 'T', firstCol), select(lastLocation, 'T', firstCol)\n",
    "            elif splitReads[l][i] == 'N':\n",
    "                firstLocation, lastLocation = rank(lastCol, start, end, 'A',  milestone, AMilestones)\n",
    "                if firstLocation == -1 or lastLocation == -1:\n",
    "                    break\n",
    "                start, end = select(firstLocation, 'A', firstCol), select(lastLocation, 'A', firstCol)\n",
    "            else:\n",
    "                pass\n",
    "            if start > end:\n",
    "                firstLocation = lastLocation = -1\n",
    "                break\n",
    "        # print(f\"locations = {locations}, segment = {segment}, start = {start}, end = {end}, firstLocation = {firstLocation}, lastLocation = {lastLocation}, splitReads = {splitReads}, l = {l}\")\n",
    "        if firstLocation != -1 and lastLocation != -1:\n",
    "            for i in range(start, end + 1):\n",
    "                locations.append(mapping[i])\n",
    "            segment = l\n",
    "            break\n",
    "    locations = np.array(locations)\n",
    "    \n",
    "    return locations, segment"
   ]
  },
  {
   "cell_type": "code",
   "execution_count": 53,
   "metadata": {},
   "outputs": [],
   "source": [
    "def readSplitter(read) -> np.ndarray[str]:\n",
    "    # readSplitter takes a read as input\n",
    "    # It splits the read into 3 parts and returns a numpy array of three strings\n",
    "    length = len(read)\n",
    "    split = length // 3\n",
    "    return np.array([read[:split], read[split:2*split], read[2*split:]])"
   ]
  },
  {
   "cell_type": "code",
   "execution_count": 54,
   "metadata": {},
   "outputs": [],
   "source": [
    "def reverseComplement(read) -> str:\n",
    "    # reverseComplement takes a read as input\n",
    "    # A -> T, C -> G, G -> C, T -> A\n",
    "    # It returns the reverse complement of the read\n",
    "    return read.translate(str.maketrans('ACGT', 'TGCA'))[::-1]"
   ]
  },
  {
   "cell_type": "code",
   "execution_count": 55,
   "metadata": {},
   "outputs": [],
   "source": [
    "def bruteForce(read, readLocation, reference) -> int:\n",
    "    mismatches = 0\n",
    "    for i in range(len(read)):\n",
    "        #take care of the case where readLocation + i is greater than the length of the reference, meaning it wraps around to the start of the reference\n",
    "        if readLocation + i < len(reference):\n",
    "            if read[i] != reference[readLocation + i]:\n",
    "                mismatches += 1\n",
    "        else:\n",
    "            if read[i] != reference[readLocation + i - len(reference)]:\n",
    "                mismatches += 1\n",
    "    return mismatches"
   ]
  },
  {
   "cell_type": "code",
   "execution_count": 170,
   "metadata": {},
   "outputs": [
    {
     "name": "stderr",
     "output_type": "stream",
     "text": [
      "C:\\Users\\aadhi\\AppData\\Local\\Temp\\ipykernel_12740\\1263013908.py:4: DeprecationWarning: The truth value of an empty array is ambiguous. Returning False, but in future this will result in an error. Use `array.size > 0` to check that an array is not empty.\n",
      "  if l:\n"
     ]
    }
   ],
   "source": [
    "l = []\n",
    "l = np.array(l)\n",
    "l\n",
    "if l:\n",
    "    print('j')"
   ]
  },
  {
   "cell_type": "code",
   "execution_count": 56,
   "metadata": {},
   "outputs": [],
   "source": [
    "def locationinReference(splitReads, locations, flag, reference):\n",
    "    #Returns a list of tuples\n",
    "    trueLocations = []\n",
    "    if flag == 0:\n",
    "        for location in locations:\n",
    "            read = splitReads[0] + splitReads[1] + splitReads[2]\n",
    "            readLocation = location\n",
    "            mismatches = bruteForce(read, readLocation, reference)\n",
    "            if mismatches <= 2:\n",
    "                trueLocations.append((location, location + len(splitReads[0]) + len(splitReads[1]) + len(splitReads[2])))\n",
    "    elif flag == 1:\n",
    "        for location in locations:\n",
    "            read = splitReads[0] + splitReads[1] + splitReads[2]\n",
    "            readLocation = location - len(splitReads[0])\n",
    "            mismatches = bruteForce(read, readLocation, reference)\n",
    "            if mismatches <= 2:\n",
    "                trueLocations.append((readLocation, location + len(splitReads[1]) + len(splitReads[2])))\n",
    "    elif flag == 2:\n",
    "        for location in locations:\n",
    "            read = splitReads[0] + splitReads[1] + splitReads[2]\n",
    "            readLocation = location - len(splitReads[0]) - len(splitReads[1])\n",
    "            mismatches = bruteForce(read, readLocation, reference)\n",
    "            if mismatches <= 2:\n",
    "                trueLocations.append((readLocation, location + len(splitReads[2])))\n",
    "    else:\n",
    "        return None\n",
    "    trueLocations = np.array(trueLocations)\n",
    "    # print(f'mismatches = {mismatches}, trueLocations = {trueLocations}')\n",
    "    return trueLocations"
   ]
  },
  {
   "cell_type": "code",
   "execution_count": 57,
   "metadata": {},
   "outputs": [],
   "source": [
    "def removeN(read) -> str:\n",
    "    return read.replace('N', 'A')"
   ]
  },
  {
   "cell_type": "code",
   "execution_count": 74,
   "metadata": {},
   "outputs": [],
   "source": [
    "def forwardRead(read, reference, firstCol, lastCol, mapping, milestone, AMilestones, CMilestones, GMilestones, TMilestones) -> Optional[np.ndarray[Tuple[int, int]]]:\n",
    "    #Some reads may have N, need to read these as A\n",
    "    # print(f'length of lastCOl = {len(lastCol)}')\n",
    "    read = removeN(read)\n",
    "    splitReads = readSplitter(read)\n",
    "    locations, flag = BWTMapper(splitReads=splitReads, firstCol=firstCol, lastCol=lastCol, mapping=mapping, milestone=milestone, AMilestones=AMilestones, CMilestones=CMilestones, GMilestones=GMilestones, TMilestones=TMilestones)\n",
    "    if flag != -1:\n",
    "        trueLocations = locationinReference(splitReads, locations, flag, reference)\n",
    "        if trueLocations.any():\n",
    "            return trueLocations\n",
    "    return np.array([])"
   ]
  },
  {
   "cell_type": "code",
   "execution_count": 75,
   "metadata": {},
   "outputs": [],
   "source": [
    "def backwardRead(read, reference, firstCol, lastCol, mapping, milestone, AMilestones, CMilestones, GMilestones, TMilestones) -> Optional[np.ndarray[Tuple[int, int]]]:\n",
    "    read = removeN(read)\n",
    "    read = reverseComplement(read)\n",
    "    splitReads = readSplitter(read)\n",
    "    locations, flag = BWTMapper(splitReads=splitReads, firstCol=firstCol, lastCol=lastCol, mapping=mapping, milestone=milestone, AMilestones=AMilestones, CMilestones=CMilestones, GMilestones=GMilestones, TMilestones=TMilestones)\n",
    "    if flag != -1:\n",
    "        trueLocations = locationinReference(splitReads, locations, flag, reference)\n",
    "        if trueLocations.any():\n",
    "            return trueLocations\n",
    "    return np.array([])"
   ]
  },
  {
   "cell_type": "code",
   "execution_count": 60,
   "metadata": {},
   "outputs": [],
   "source": [
    "def ExonMapper(redExon2, redExon3, redExon4, redExon5, greenExon2, greenExon3, greenExon4, greenExon5, locations) -> Tuple[int]:\n",
    "    #checks if read is in the exon ambiguously or unambiguously\n",
    "    #The ranges for the red exon are as follows:\n",
    "    # 149256127 - 149256423\n",
    "    # 149258412 - 149258580\n",
    "    # 149260048 - 149260213\n",
    "    # 149261768 - 149262007\n",
    "    # The ranges for the green exon are as follows:\n",
    "    # 149293258 - 149293554\n",
    "    # 149295542 - 149295710\n",
    "    # 149297178 - 149297343\n",
    "    # 149298898 - 149299137\n",
    "    red = green = -1\n",
    "    for location in locations:\n",
    "        start, end = location\n",
    "        secondRed = 149256127 < start and end < 149256423\n",
    "        thirdRed = 149258412 < start and end < 149258580\n",
    "        fourthRed = 149260048 < start and end < 149260213\n",
    "        fifthRed = 149261768 < start and end < 149262007\n",
    "        secondGreen = 149293258 < start and end < 149293554\n",
    "        thirdGreen = 149295542 < start and end < 149295710\n",
    "        fourthGreen = 149297178 < start and end < 149297343\n",
    "        fifthGreen = 149298898 < start and end < 149299137\n",
    "        if secondRed:\n",
    "            red = 2\n",
    "        elif thirdRed:\n",
    "            red = 3\n",
    "        elif fourthRed:\n",
    "            red = 4\n",
    "        elif fifthRed:\n",
    "            red = 5\n",
    "        else:\n",
    "            pass\n",
    "        if secondGreen:\n",
    "            green = 2\n",
    "        elif thirdGreen:\n",
    "            green = 3\n",
    "        elif fourthGreen:\n",
    "            green = 4\n",
    "        elif fifthGreen:\n",
    "            green = 5\n",
    "        else:\n",
    "            pass\n",
    "    if red != -1 and green != -1:\n",
    "        if red == 2:\n",
    "            redExon2 += 0.5\n",
    "            greenExon2 += 0.5\n",
    "        elif red == 3:\n",
    "            redExon3 += 0.5\n",
    "            greenExon3 += 0.5\n",
    "        elif red == 4:\n",
    "            redExon4 += 0.5\n",
    "            greenExon4 += 0.5\n",
    "        elif red == 5:\n",
    "            redExon5 += 0.5\n",
    "            greenExon5 += 0.5\n",
    "        else:\n",
    "            pass\n",
    "    elif red != -1:\n",
    "        if red == 2:\n",
    "            redExon2 += 1\n",
    "        elif red == 3:\n",
    "            redExon3 += 1\n",
    "        elif red == 4:\n",
    "            redExon4 += 1\n",
    "        elif red == 5:\n",
    "            redExon5 += 1\n",
    "        else:\n",
    "            pass\n",
    "    elif green != -1:\n",
    "        if green == 2:\n",
    "            greenExon2 += 1\n",
    "        elif green == 3:\n",
    "            greenExon3 += 1\n",
    "        elif green == 4:\n",
    "            greenExon4 += 1\n",
    "        elif green == 5:\n",
    "            greenExon5 += 1\n",
    "        else:\n",
    "            pass\n",
    "    else:\n",
    "        pass\n",
    "    return redExon2, redExon3, redExon4, redExon5, greenExon2, greenExon3, greenExon4, greenExon5"
   ]
  },
  {
   "cell_type": "code",
   "execution_count": 62,
   "metadata": {},
   "outputs": [],
   "source": [
    "def colorBlindness(redExon2, redExon3, redExon4, redExon5, greenExon2, greenExon3, greenExon4, greenExon5) -> Tuple[float]:\n",
    "    redFraction2 = redExon2 / (redExon2 + greenExon2)\n",
    "    redFraction3 = redExon3 / (redExon3 + greenExon3)\n",
    "    redFraction4 = redExon4 / (redExon4 + greenExon4)\n",
    "    redFraction5 = redExon5 / (redExon5 + greenExon5)\n",
    "    return redFraction2, redFraction3, redFraction4, redFraction5"
   ]
  },
  {
   "cell_type": "code",
   "execution_count": 17,
   "metadata": {},
   "outputs": [
    {
     "ename": "FileNotFoundError",
     "evalue": "chrX_last_col.txt not found.",
     "output_type": "error",
     "traceback": [
      "\u001b[1;31m---------------------------------------------------------------------------\u001b[0m",
      "\u001b[1;31mFileNotFoundError\u001b[0m                         Traceback (most recent call last)",
      "Cell \u001b[1;32mIn[17], line 2\u001b[0m\n\u001b[0;32m      1\u001b[0m reference \u001b[38;5;241m=\u001b[39m readFasta(\u001b[38;5;124m'\u001b[39m\u001b[38;5;124mdata\u001b[39m\u001b[38;5;130;01m\\\\\u001b[39;00m\u001b[38;5;124mchrX.fa\u001b[39m\u001b[38;5;124m'\u001b[39m)\n\u001b[1;32m----> 2\u001b[0m lastCol \u001b[38;5;241m=\u001b[39m \u001b[43mreadFastcol\u001b[49m\u001b[43m(\u001b[49m\u001b[38;5;124;43m'\u001b[39;49m\u001b[38;5;124;43mchrX_last_col.txt\u001b[39;49m\u001b[38;5;124;43m'\u001b[39;49m\u001b[43m)\u001b[49m\n\u001b[0;32m      3\u001b[0m reads \u001b[38;5;241m=\u001b[39m getReads(\u001b[38;5;124m'\u001b[39m\u001b[38;5;124mreads\u001b[39m\u001b[38;5;124m'\u001b[39m)\n\u001b[0;32m      4\u001b[0m mapping \u001b[38;5;241m=\u001b[39m getMapping(\u001b[38;5;124m'\u001b[39m\u001b[38;5;124mchrX_map.txt\u001b[39m\u001b[38;5;124m'\u001b[39m)\n",
      "Cell \u001b[1;32mIn[12], line 4\u001b[0m, in \u001b[0;36mreadFastcol\u001b[1;34m(file)\u001b[0m\n\u001b[0;32m      3\u001b[0m \u001b[38;5;28;01mdef\u001b[39;00m \u001b[38;5;21mreadFastcol\u001b[39m(file) \u001b[38;5;241m-\u001b[39m\u001b[38;5;241m>\u001b[39m \u001b[38;5;28mstr\u001b[39m:\n\u001b[1;32m----> 4\u001b[0m     lines \u001b[38;5;241m=\u001b[39m \u001b[43mnp\u001b[49m\u001b[38;5;241;43m.\u001b[39;49m\u001b[43mloadtxt\u001b[49m\u001b[43m(\u001b[49m\u001b[43mfile\u001b[49m\u001b[43m,\u001b[49m\u001b[43m \u001b[49m\u001b[43mdtype\u001b[49m\u001b[38;5;241;43m=\u001b[39;49m\u001b[38;5;28;43mstr\u001b[39;49m\u001b[43m)\u001b[49m\n\u001b[0;32m      5\u001b[0m     lastCol \u001b[38;5;241m=\u001b[39m \u001b[38;5;124m'\u001b[39m\u001b[38;5;124m'\u001b[39m\u001b[38;5;241m.\u001b[39mjoin(lines)\n\u001b[0;32m      6\u001b[0m     \u001b[38;5;28;01mreturn\u001b[39;00m lastCol\n",
      "File \u001b[1;32mc:\\Users\\aadhi\\Anaconda3\\envs\\DataAnalytics\\lib\\site-packages\\numpy\\lib\\npyio.py:1373\u001b[0m, in \u001b[0;36mloadtxt\u001b[1;34m(fname, dtype, comments, delimiter, converters, skiprows, usecols, unpack, ndmin, encoding, max_rows, quotechar, like)\u001b[0m\n\u001b[0;32m   1370\u001b[0m \u001b[38;5;28;01mif\u001b[39;00m \u001b[38;5;28misinstance\u001b[39m(delimiter, \u001b[38;5;28mbytes\u001b[39m):\n\u001b[0;32m   1371\u001b[0m     delimiter \u001b[38;5;241m=\u001b[39m delimiter\u001b[38;5;241m.\u001b[39mdecode(\u001b[38;5;124m'\u001b[39m\u001b[38;5;124mlatin1\u001b[39m\u001b[38;5;124m'\u001b[39m)\n\u001b[1;32m-> 1373\u001b[0m arr \u001b[38;5;241m=\u001b[39m \u001b[43m_read\u001b[49m\u001b[43m(\u001b[49m\u001b[43mfname\u001b[49m\u001b[43m,\u001b[49m\u001b[43m \u001b[49m\u001b[43mdtype\u001b[49m\u001b[38;5;241;43m=\u001b[39;49m\u001b[43mdtype\u001b[49m\u001b[43m,\u001b[49m\u001b[43m \u001b[49m\u001b[43mcomment\u001b[49m\u001b[38;5;241;43m=\u001b[39;49m\u001b[43mcomment\u001b[49m\u001b[43m,\u001b[49m\u001b[43m \u001b[49m\u001b[43mdelimiter\u001b[49m\u001b[38;5;241;43m=\u001b[39;49m\u001b[43mdelimiter\u001b[49m\u001b[43m,\u001b[49m\n\u001b[0;32m   1374\u001b[0m \u001b[43m            \u001b[49m\u001b[43mconverters\u001b[49m\u001b[38;5;241;43m=\u001b[39;49m\u001b[43mconverters\u001b[49m\u001b[43m,\u001b[49m\u001b[43m \u001b[49m\u001b[43mskiplines\u001b[49m\u001b[38;5;241;43m=\u001b[39;49m\u001b[43mskiprows\u001b[49m\u001b[43m,\u001b[49m\u001b[43m \u001b[49m\u001b[43musecols\u001b[49m\u001b[38;5;241;43m=\u001b[39;49m\u001b[43musecols\u001b[49m\u001b[43m,\u001b[49m\n\u001b[0;32m   1375\u001b[0m \u001b[43m            \u001b[49m\u001b[43munpack\u001b[49m\u001b[38;5;241;43m=\u001b[39;49m\u001b[43munpack\u001b[49m\u001b[43m,\u001b[49m\u001b[43m \u001b[49m\u001b[43mndmin\u001b[49m\u001b[38;5;241;43m=\u001b[39;49m\u001b[43mndmin\u001b[49m\u001b[43m,\u001b[49m\u001b[43m \u001b[49m\u001b[43mencoding\u001b[49m\u001b[38;5;241;43m=\u001b[39;49m\u001b[43mencoding\u001b[49m\u001b[43m,\u001b[49m\n\u001b[0;32m   1376\u001b[0m \u001b[43m            \u001b[49m\u001b[43mmax_rows\u001b[49m\u001b[38;5;241;43m=\u001b[39;49m\u001b[43mmax_rows\u001b[49m\u001b[43m,\u001b[49m\u001b[43m \u001b[49m\u001b[43mquote\u001b[49m\u001b[38;5;241;43m=\u001b[39;49m\u001b[43mquotechar\u001b[49m\u001b[43m)\u001b[49m\n\u001b[0;32m   1378\u001b[0m \u001b[38;5;28;01mreturn\u001b[39;00m arr\n",
      "File \u001b[1;32mc:\\Users\\aadhi\\Anaconda3\\envs\\DataAnalytics\\lib\\site-packages\\numpy\\lib\\npyio.py:992\u001b[0m, in \u001b[0;36m_read\u001b[1;34m(fname, delimiter, comment, quote, imaginary_unit, usecols, skiplines, max_rows, converters, ndmin, unpack, dtype, encoding)\u001b[0m\n\u001b[0;32m    990\u001b[0m     fname \u001b[38;5;241m=\u001b[39m os\u001b[38;5;241m.\u001b[39mfspath(fname)\n\u001b[0;32m    991\u001b[0m \u001b[38;5;28;01mif\u001b[39;00m \u001b[38;5;28misinstance\u001b[39m(fname, \u001b[38;5;28mstr\u001b[39m):\n\u001b[1;32m--> 992\u001b[0m     fh \u001b[38;5;241m=\u001b[39m \u001b[43mnp\u001b[49m\u001b[38;5;241;43m.\u001b[39;49m\u001b[43mlib\u001b[49m\u001b[38;5;241;43m.\u001b[39;49m\u001b[43m_datasource\u001b[49m\u001b[38;5;241;43m.\u001b[39;49m\u001b[43mopen\u001b[49m\u001b[43m(\u001b[49m\u001b[43mfname\u001b[49m\u001b[43m,\u001b[49m\u001b[43m \u001b[49m\u001b[38;5;124;43m'\u001b[39;49m\u001b[38;5;124;43mrt\u001b[39;49m\u001b[38;5;124;43m'\u001b[39;49m\u001b[43m,\u001b[49m\u001b[43m \u001b[49m\u001b[43mencoding\u001b[49m\u001b[38;5;241;43m=\u001b[39;49m\u001b[43mencoding\u001b[49m\u001b[43m)\u001b[49m\n\u001b[0;32m    993\u001b[0m     \u001b[38;5;28;01mif\u001b[39;00m encoding \u001b[38;5;129;01mis\u001b[39;00m \u001b[38;5;28;01mNone\u001b[39;00m:\n\u001b[0;32m    994\u001b[0m         encoding \u001b[38;5;241m=\u001b[39m \u001b[38;5;28mgetattr\u001b[39m(fh, \u001b[38;5;124m'\u001b[39m\u001b[38;5;124mencoding\u001b[39m\u001b[38;5;124m'\u001b[39m, \u001b[38;5;124m'\u001b[39m\u001b[38;5;124mlatin1\u001b[39m\u001b[38;5;124m'\u001b[39m)\n",
      "File \u001b[1;32mc:\\Users\\aadhi\\Anaconda3\\envs\\DataAnalytics\\lib\\site-packages\\numpy\\lib\\_datasource.py:193\u001b[0m, in \u001b[0;36mopen\u001b[1;34m(path, mode, destpath, encoding, newline)\u001b[0m\n\u001b[0;32m    156\u001b[0m \u001b[38;5;250m\u001b[39m\u001b[38;5;124;03m\"\"\"\u001b[39;00m\n\u001b[0;32m    157\u001b[0m \u001b[38;5;124;03mOpen `path` with `mode` and return the file object.\u001b[39;00m\n\u001b[0;32m    158\u001b[0m \n\u001b[1;32m   (...)\u001b[0m\n\u001b[0;32m    189\u001b[0m \n\u001b[0;32m    190\u001b[0m \u001b[38;5;124;03m\"\"\"\u001b[39;00m\n\u001b[0;32m    192\u001b[0m ds \u001b[38;5;241m=\u001b[39m DataSource(destpath)\n\u001b[1;32m--> 193\u001b[0m \u001b[38;5;28;01mreturn\u001b[39;00m \u001b[43mds\u001b[49m\u001b[38;5;241;43m.\u001b[39;49m\u001b[43mopen\u001b[49m\u001b[43m(\u001b[49m\u001b[43mpath\u001b[49m\u001b[43m,\u001b[49m\u001b[43m \u001b[49m\u001b[43mmode\u001b[49m\u001b[43m,\u001b[49m\u001b[43m \u001b[49m\u001b[43mencoding\u001b[49m\u001b[38;5;241;43m=\u001b[39;49m\u001b[43mencoding\u001b[49m\u001b[43m,\u001b[49m\u001b[43m \u001b[49m\u001b[43mnewline\u001b[49m\u001b[38;5;241;43m=\u001b[39;49m\u001b[43mnewline\u001b[49m\u001b[43m)\u001b[49m\n",
      "File \u001b[1;32mc:\\Users\\aadhi\\Anaconda3\\envs\\DataAnalytics\\lib\\site-packages\\numpy\\lib\\_datasource.py:533\u001b[0m, in \u001b[0;36mDataSource.open\u001b[1;34m(self, path, mode, encoding, newline)\u001b[0m\n\u001b[0;32m    530\u001b[0m     \u001b[38;5;28;01mreturn\u001b[39;00m _file_openers[ext](found, mode\u001b[38;5;241m=\u001b[39mmode,\n\u001b[0;32m    531\u001b[0m                               encoding\u001b[38;5;241m=\u001b[39mencoding, newline\u001b[38;5;241m=\u001b[39mnewline)\n\u001b[0;32m    532\u001b[0m \u001b[38;5;28;01melse\u001b[39;00m:\n\u001b[1;32m--> 533\u001b[0m     \u001b[38;5;28;01mraise\u001b[39;00m \u001b[38;5;167;01mFileNotFoundError\u001b[39;00m(\u001b[38;5;124mf\u001b[39m\u001b[38;5;124m\"\u001b[39m\u001b[38;5;132;01m{\u001b[39;00mpath\u001b[38;5;132;01m}\u001b[39;00m\u001b[38;5;124m not found.\u001b[39m\u001b[38;5;124m\"\u001b[39m)\n",
      "\u001b[1;31mFileNotFoundError\u001b[0m: chrX_last_col.txt not found."
     ]
    }
   ],
   "source": [
    "reference = readFasta('data\\\\chrX.fa')\n",
    "lastCol = readFastcol('chrX_last_col.txt')\n",
    "reads = getReads('reads')\n",
    "mapping = getMapping('chrX_map.txt')\n",
    "milestone = 1000\n",
    "# e = 0\n",
    "AMilestones, CMilestones, GMilestones, TMilestones, firstCol = createMilestones(lastCol, milestone)\n",
    "redExon2 = redExon3 = redExon4 = redExon5 = 0\n",
    "greenExon2 = greenExon3 = greenExon4 = greenExon5 = 0"
   ]
  },
  {
   "cell_type": "code",
   "execution_count": 105,
   "metadata": {},
   "outputs": [],
   "source": [
    "def parallel(i):\n",
    "    #forwardRead and backwardRead are run in parallel\n",
    "    global redExon2, redExon3, redExon4, redExon5, greenExon2, greenExon3, greenExon4, greenExon5\n",
    "    forwardLocations = forwardRead(reads[i], reference, firstCol, lastCol, mapping, milestone, AMilestones, CMilestones, GMilestones, TMilestones)\n",
    "    backwardLocations = backwardRead(reads[i], reference, firstCol, lastCol, mapping, milestone, AMilestones, CMilestones, GMilestones, TMilestones)\n",
    "    if forwardLocations.any():\n",
    "        redExon2, redExon3, redExon4, redExon5, greenExon2, greenExon3, greenExon4, greenExon5 = ExonMapper(redExon2, redExon3, redExon4, redExon5, greenExon2, greenExon3, greenExon4, greenExon5, forwardLocations)\n",
    "    if backwardLocations.any():\n",
    "        redExon2, redExon3, redExon4, redExon5, greenExon2, greenExon3, greenExon4, greenExon5 = ExonMapper(redExon2, redExon3, redExon4, redExon5, greenExon2, greenExon3, greenExon4, greenExon5, backwardLocations)\n",
    "    if i % 1000 == 0:\n",
    "        print(i)"
   ]
  },
  {
   "cell_type": "code",
   "execution_count": 106,
   "metadata": {},
   "outputs": [
    {
     "ename": "KeyboardInterrupt",
     "evalue": "",
     "output_type": "error",
     "traceback": [
      "\u001b[1;31m---------------------------------------------------------------------------\u001b[0m",
      "\u001b[1;31mKeyboardInterrupt\u001b[0m                         Traceback (most recent call last)",
      "Cell \u001b[1;32mIn[106], line 1\u001b[0m\n\u001b[1;32m----> 1\u001b[0m results \u001b[38;5;241m=\u001b[39m \u001b[43mParallel\u001b[49m\u001b[43m(\u001b[49m\u001b[43mn_jobs\u001b[49m\u001b[38;5;241;43m=\u001b[39;49m\u001b[38;5;241;43m8\u001b[39;49m\u001b[43m)\u001b[49m\u001b[43m(\u001b[49m\u001b[43mdelayed\u001b[49m\u001b[43m(\u001b[49m\u001b[43mparallel\u001b[49m\u001b[43m)\u001b[49m\u001b[43m(\u001b[49m\u001b[43mi\u001b[49m\u001b[43m)\u001b[49m\u001b[43m \u001b[49m\u001b[38;5;28;43;01mfor\u001b[39;49;00m\u001b[43m \u001b[49m\u001b[43mi\u001b[49m\u001b[43m \u001b[49m\u001b[38;5;129;43;01min\u001b[39;49;00m\u001b[43m \u001b[49m\u001b[38;5;28;43mrange\u001b[39;49m\u001b[43m(\u001b[49m\u001b[38;5;28;43mlen\u001b[39;49m\u001b[43m(\u001b[49m\u001b[43mreads\u001b[49m\u001b[43m)\u001b[49m\u001b[43m)\u001b[49m\u001b[43m)\u001b[49m\n",
      "File \u001b[1;32mc:\\Users\\aadhi\\Anaconda3\\envs\\DataAnalytics\\lib\\site-packages\\joblib\\parallel.py:1098\u001b[0m, in \u001b[0;36mParallel.__call__\u001b[1;34m(self, iterable)\u001b[0m\n\u001b[0;32m   1095\u001b[0m     \u001b[38;5;28mself\u001b[39m\u001b[38;5;241m.\u001b[39m_iterating \u001b[38;5;241m=\u001b[39m \u001b[38;5;28;01mFalse\u001b[39;00m\n\u001b[0;32m   1097\u001b[0m \u001b[38;5;28;01mwith\u001b[39;00m \u001b[38;5;28mself\u001b[39m\u001b[38;5;241m.\u001b[39m_backend\u001b[38;5;241m.\u001b[39mretrieval_context():\n\u001b[1;32m-> 1098\u001b[0m     \u001b[38;5;28;43mself\u001b[39;49m\u001b[38;5;241;43m.\u001b[39;49m\u001b[43mretrieve\u001b[49m\u001b[43m(\u001b[49m\u001b[43m)\u001b[49m\n\u001b[0;32m   1099\u001b[0m \u001b[38;5;66;03m# Make sure that we get a last message telling us we are done\u001b[39;00m\n\u001b[0;32m   1100\u001b[0m elapsed_time \u001b[38;5;241m=\u001b[39m time\u001b[38;5;241m.\u001b[39mtime() \u001b[38;5;241m-\u001b[39m \u001b[38;5;28mself\u001b[39m\u001b[38;5;241m.\u001b[39m_start_time\n",
      "File \u001b[1;32mc:\\Users\\aadhi\\Anaconda3\\envs\\DataAnalytics\\lib\\site-packages\\joblib\\parallel.py:975\u001b[0m, in \u001b[0;36mParallel.retrieve\u001b[1;34m(self)\u001b[0m\n\u001b[0;32m    973\u001b[0m \u001b[38;5;28;01mtry\u001b[39;00m:\n\u001b[0;32m    974\u001b[0m     \u001b[38;5;28;01mif\u001b[39;00m \u001b[38;5;28mgetattr\u001b[39m(\u001b[38;5;28mself\u001b[39m\u001b[38;5;241m.\u001b[39m_backend, \u001b[38;5;124m'\u001b[39m\u001b[38;5;124msupports_timeout\u001b[39m\u001b[38;5;124m'\u001b[39m, \u001b[38;5;28;01mFalse\u001b[39;00m):\n\u001b[1;32m--> 975\u001b[0m         \u001b[38;5;28mself\u001b[39m\u001b[38;5;241m.\u001b[39m_output\u001b[38;5;241m.\u001b[39mextend(\u001b[43mjob\u001b[49m\u001b[38;5;241;43m.\u001b[39;49m\u001b[43mget\u001b[49m\u001b[43m(\u001b[49m\u001b[43mtimeout\u001b[49m\u001b[38;5;241;43m=\u001b[39;49m\u001b[38;5;28;43mself\u001b[39;49m\u001b[38;5;241;43m.\u001b[39;49m\u001b[43mtimeout\u001b[49m\u001b[43m)\u001b[49m)\n\u001b[0;32m    976\u001b[0m     \u001b[38;5;28;01melse\u001b[39;00m:\n\u001b[0;32m    977\u001b[0m         \u001b[38;5;28mself\u001b[39m\u001b[38;5;241m.\u001b[39m_output\u001b[38;5;241m.\u001b[39mextend(job\u001b[38;5;241m.\u001b[39mget())\n",
      "File \u001b[1;32mc:\\Users\\aadhi\\Anaconda3\\envs\\DataAnalytics\\lib\\site-packages\\joblib\\_parallel_backends.py:567\u001b[0m, in \u001b[0;36mLokyBackend.wrap_future_result\u001b[1;34m(future, timeout)\u001b[0m\n\u001b[0;32m    564\u001b[0m \u001b[38;5;250m\u001b[39m\u001b[38;5;124;03m\"\"\"Wrapper for Future.result to implement the same behaviour as\u001b[39;00m\n\u001b[0;32m    565\u001b[0m \u001b[38;5;124;03mAsyncResults.get from multiprocessing.\"\"\"\u001b[39;00m\n\u001b[0;32m    566\u001b[0m \u001b[38;5;28;01mtry\u001b[39;00m:\n\u001b[1;32m--> 567\u001b[0m     \u001b[38;5;28;01mreturn\u001b[39;00m \u001b[43mfuture\u001b[49m\u001b[38;5;241;43m.\u001b[39;49m\u001b[43mresult\u001b[49m\u001b[43m(\u001b[49m\u001b[43mtimeout\u001b[49m\u001b[38;5;241;43m=\u001b[39;49m\u001b[43mtimeout\u001b[49m\u001b[43m)\u001b[49m\n\u001b[0;32m    568\u001b[0m \u001b[38;5;28;01mexcept\u001b[39;00m CfTimeoutError \u001b[38;5;28;01mas\u001b[39;00m e:\n\u001b[0;32m    569\u001b[0m     \u001b[38;5;28;01mraise\u001b[39;00m \u001b[38;5;167;01mTimeoutError\u001b[39;00m \u001b[38;5;28;01mfrom\u001b[39;00m \u001b[38;5;21;01me\u001b[39;00m\n",
      "File \u001b[1;32mc:\\Users\\aadhi\\Anaconda3\\envs\\DataAnalytics\\lib\\concurrent\\futures\\_base.py:441\u001b[0m, in \u001b[0;36mFuture.result\u001b[1;34m(self, timeout)\u001b[0m\n\u001b[0;32m    438\u001b[0m \u001b[38;5;28;01melif\u001b[39;00m \u001b[38;5;28mself\u001b[39m\u001b[38;5;241m.\u001b[39m_state \u001b[38;5;241m==\u001b[39m FINISHED:\n\u001b[0;32m    439\u001b[0m     \u001b[38;5;28;01mreturn\u001b[39;00m \u001b[38;5;28mself\u001b[39m\u001b[38;5;241m.\u001b[39m__get_result()\n\u001b[1;32m--> 441\u001b[0m \u001b[38;5;28;43mself\u001b[39;49m\u001b[38;5;241;43m.\u001b[39;49m\u001b[43m_condition\u001b[49m\u001b[38;5;241;43m.\u001b[39;49m\u001b[43mwait\u001b[49m\u001b[43m(\u001b[49m\u001b[43mtimeout\u001b[49m\u001b[43m)\u001b[49m\n\u001b[0;32m    443\u001b[0m \u001b[38;5;28;01mif\u001b[39;00m \u001b[38;5;28mself\u001b[39m\u001b[38;5;241m.\u001b[39m_state \u001b[38;5;129;01min\u001b[39;00m [CANCELLED, CANCELLED_AND_NOTIFIED]:\n\u001b[0;32m    444\u001b[0m     \u001b[38;5;28;01mraise\u001b[39;00m CancelledError()\n",
      "File \u001b[1;32mc:\\Users\\aadhi\\Anaconda3\\envs\\DataAnalytics\\lib\\threading.py:312\u001b[0m, in \u001b[0;36mCondition.wait\u001b[1;34m(self, timeout)\u001b[0m\n\u001b[0;32m    310\u001b[0m \u001b[38;5;28;01mtry\u001b[39;00m:    \u001b[38;5;66;03m# restore state no matter what (e.g., KeyboardInterrupt)\u001b[39;00m\n\u001b[0;32m    311\u001b[0m     \u001b[38;5;28;01mif\u001b[39;00m timeout \u001b[38;5;129;01mis\u001b[39;00m \u001b[38;5;28;01mNone\u001b[39;00m:\n\u001b[1;32m--> 312\u001b[0m         \u001b[43mwaiter\u001b[49m\u001b[38;5;241;43m.\u001b[39;49m\u001b[43macquire\u001b[49m\u001b[43m(\u001b[49m\u001b[43m)\u001b[49m\n\u001b[0;32m    313\u001b[0m         gotit \u001b[38;5;241m=\u001b[39m \u001b[38;5;28;01mTrue\u001b[39;00m\n\u001b[0;32m    314\u001b[0m     \u001b[38;5;28;01melse\u001b[39;00m:\n",
      "\u001b[1;31mKeyboardInterrupt\u001b[0m: "
     ]
    }
   ],
   "source": [
    "results = Parallel(n_jobs=8)(delayed(parallel)(i) for i in range(len(reads)))"
   ]
  },
  {
   "cell_type": "code",
   "execution_count": 100,
   "metadata": {},
   "outputs": [
    {
     "ename": "ZeroDivisionError",
     "evalue": "division by zero",
     "output_type": "error",
     "traceback": [
      "\u001b[1;31m---------------------------------------------------------------------------\u001b[0m",
      "\u001b[1;31mZeroDivisionError\u001b[0m                         Traceback (most recent call last)",
      "Cell \u001b[1;32mIn[100], line 1\u001b[0m\n\u001b[1;32m----> 1\u001b[0m redFraction2, redFraction3, redFraction4, redFraction5 \u001b[38;5;241m=\u001b[39m \u001b[43mcolorBlindness\u001b[49m\u001b[43m(\u001b[49m\u001b[43mredExon2\u001b[49m\u001b[43m,\u001b[49m\u001b[43m \u001b[49m\u001b[43mredExon3\u001b[49m\u001b[43m,\u001b[49m\u001b[43m \u001b[49m\u001b[43mredExon4\u001b[49m\u001b[43m,\u001b[49m\u001b[43m \u001b[49m\u001b[43mredExon5\u001b[49m\u001b[43m,\u001b[49m\u001b[43m \u001b[49m\u001b[43mgreenExon2\u001b[49m\u001b[43m,\u001b[49m\u001b[43m \u001b[49m\u001b[43mgreenExon3\u001b[49m\u001b[43m,\u001b[49m\u001b[43m \u001b[49m\u001b[43mgreenExon4\u001b[49m\u001b[43m,\u001b[49m\u001b[43m \u001b[49m\u001b[43mgreenExon5\u001b[49m\u001b[43m)\u001b[49m\n\u001b[0;32m      2\u001b[0m \u001b[38;5;28mprint\u001b[39m(redFraction2, redFraction3, redFraction4, redFraction5)\n",
      "Cell \u001b[1;32mIn[62], line 2\u001b[0m, in \u001b[0;36mcolorBlindness\u001b[1;34m(redExon2, redExon3, redExon4, redExon5, greenExon2, greenExon3, greenExon4, greenExon5)\u001b[0m\n\u001b[0;32m      1\u001b[0m \u001b[38;5;28;01mdef\u001b[39;00m \u001b[38;5;21mcolorBlindness\u001b[39m(redExon2, redExon3, redExon4, redExon5, greenExon2, greenExon3, greenExon4, greenExon5) \u001b[38;5;241m-\u001b[39m\u001b[38;5;241m>\u001b[39m Tuple[\u001b[38;5;28mfloat\u001b[39m]:\n\u001b[1;32m----> 2\u001b[0m     redFraction2 \u001b[38;5;241m=\u001b[39m \u001b[43mredExon2\u001b[49m\u001b[43m \u001b[49m\u001b[38;5;241;43m/\u001b[39;49m\u001b[43m \u001b[49m\u001b[43m(\u001b[49m\u001b[43mredExon2\u001b[49m\u001b[43m \u001b[49m\u001b[38;5;241;43m+\u001b[39;49m\u001b[43m \u001b[49m\u001b[43mgreenExon2\u001b[49m\u001b[43m)\u001b[49m\n\u001b[0;32m      3\u001b[0m     redFraction3 \u001b[38;5;241m=\u001b[39m redExon3 \u001b[38;5;241m/\u001b[39m (redExon3 \u001b[38;5;241m+\u001b[39m greenExon3)\n\u001b[0;32m      4\u001b[0m     redFraction4 \u001b[38;5;241m=\u001b[39m redExon4 \u001b[38;5;241m/\u001b[39m (redExon4 \u001b[38;5;241m+\u001b[39m greenExon4)\n",
      "\u001b[1;31mZeroDivisionError\u001b[0m: division by zero"
     ]
    }
   ],
   "source": [
    "redFraction2, redFraction3, redFraction4, redFraction5 = colorBlindness(redExon2, redExon3, redExon4, redExon5, greenExon2, greenExon3, greenExon4, greenExon5)\n",
    "print(redFraction2, redFraction3, redFraction4, redFraction5)"
   ]
  },
  {
   "cell_type": "code",
   "execution_count": 98,
   "metadata": {},
   "outputs": [],
   "source": [
    "def main():\n",
    "    for i in range(100):\n",
    "        parallel(i)\n",
    "        # e += 1\n",
    "        # if e % 1000 == 0:\n",
    "        #     break\n",
    "    redFraction2, redFraction3, redFraction4, redFraction5 = colorBlindness(redExon2, redExon3, redExon4, redExon5, greenExon2, greenExon3, greenExon4, greenExon5)\n",
    "    return redFraction2, redFraction3, redFraction4, redFraction5\n",
    "    "
   ]
  },
  {
   "cell_type": "code",
   "execution_count": 17,
   "metadata": {},
   "outputs": [],
   "source": [
    "reference = readFasta('chrX.fa')\n",
    "lastCol = readFastcol('chrX_last_col.txt')\n",
    "# firstCol = getFirstcol(lastCol)\n",
    "reads = getReads('reads')\n",
    "mapping = getMapping('chrX_map.txt')\n",
    "milestone = 1000\n",
    "AMilestones, CMilestones, GMilestones, TMilestones, firstCol = createMilestones(lastCol, milestone)\n",
    "bandIndexStart = 0\n",
    "bandIndexEnd = len(lastCol)\n",
    "redExon2 = redExon3 = redExon4 = redExon5 = 0\n",
    "greenExon2 = greenExon3 = greenExon4 = greenExon5 = 0\n"
   ]
  },
  {
   "cell_type": "code",
   "execution_count": 225,
   "metadata": {},
   "outputs": [
    {
     "name": "stdout",
     "output_type": "stream",
     "text": [
      "[ 45648951  75462304 105328135 151100559]\n"
     ]
    }
   ],
   "source": [
    "print(firstCol)"
   ]
  },
  {
   "cell_type": "code",
   "execution_count": 26,
   "metadata": {},
   "outputs": [],
   "source": [
    "forwardLocations = []"
   ]
  },
  {
   "cell_type": "code",
   "execution_count": 19,
   "metadata": {},
   "outputs": [
    {
     "name": "stdout",
     "output_type": "stream",
     "text": [
      "Collecting numbaNote: you may need to restart the kernel to use updated packages.\n",
      "\n",
      "  Obtaining dependency information for numba from https://files.pythonhosted.org/packages/01/01/8b7b670c77c5ea0e47e283d82332969bf672ab6410d0b2610cac5b7a3ded/numba-0.60.0-cp39-cp39-win_amd64.whl.metadata\n",
      "  Downloading numba-0.60.0-cp39-cp39-win_amd64.whl.metadata (2.8 kB)\n",
      "Collecting llvmlite<0.44,>=0.43.0dev0 (from numba)\n",
      "  Obtaining dependency information for llvmlite<0.44,>=0.43.0dev0 from https://files.pythonhosted.org/packages/df/41/73cc26a2634b538cfe813f618c91e7e9960b8c163f8f0c94a2b0f008b9da/llvmlite-0.43.0-cp39-cp39-win_amd64.whl.metadata\n",
      "  Downloading llvmlite-0.43.0-cp39-cp39-win_amd64.whl.metadata (4.9 kB)\n",
      "Requirement already satisfied: numpy<2.1,>=1.22 in c:\\users\\aadhi\\anaconda3\\envs\\dataanalytics\\lib\\site-packages (from numba) (1.25.2)\n",
      "Downloading numba-0.60.0-cp39-cp39-win_amd64.whl (2.7 MB)\n",
      "   ---------------------------------------- 0.0/2.7 MB ? eta -:--:--\n",
      "   ---------------------------------------- 0.0/2.7 MB 660.6 kB/s eta 0:00:05\n",
      "    --------------------------------------- 0.0/2.7 MB 487.6 kB/s eta 0:00:06\n",
      "   - -------------------------------------- 0.1/2.7 MB 930.9 kB/s eta 0:00:03\n",
      "   --- ------------------------------------ 0.2/2.7 MB 1.2 MB/s eta 0:00:02\n",
      "   ---- ----------------------------------- 0.3/2.7 MB 1.6 MB/s eta 0:00:02\n",
      "   ------- -------------------------------- 0.5/2.7 MB 2.0 MB/s eta 0:00:02\n",
      "   ----------- ---------------------------- 0.8/2.7 MB 2.9 MB/s eta 0:00:01\n",
      "   --------------- ------------------------ 1.0/2.7 MB 3.4 MB/s eta 0:00:01\n",
      "   --------------- ------------------------ 1.0/2.7 MB 3.4 MB/s eta 0:00:01\n",
      "   --------------- ------------------------ 1.0/2.7 MB 3.4 MB/s eta 0:00:01\n",
      "   --------------- ------------------------ 1.0/2.7 MB 2.4 MB/s eta 0:00:01\n",
      "   ----------------------- ---------------- 1.6/2.7 MB 3.3 MB/s eta 0:00:01\n",
      "   ------------------------------- -------- 2.1/2.7 MB 4.2 MB/s eta 0:00:01\n",
      "   ----------------------------------- ---- 2.4/2.7 MB 4.3 MB/s eta 0:00:01\n",
      "   ---------------------------------------  2.7/2.7 MB 4.6 MB/s eta 0:00:01\n",
      "   ---------------------------------------- 2.7/2.7 MB 4.3 MB/s eta 0:00:00\n",
      "Downloading llvmlite-0.43.0-cp39-cp39-win_amd64.whl (28.1 MB)\n",
      "   ---------------------------------------- 0.0/28.1 MB ? eta -:--:--\n",
      "    --------------------------------------- 0.5/28.1 MB 16.0 MB/s eta 0:00:02\n",
      "    --------------------------------------- 0.7/28.1 MB 10.4 MB/s eta 0:00:03\n",
      "   - -------------------------------------- 1.3/28.1 MB 12.1 MB/s eta 0:00:03\n",
      "   -- ------------------------------------- 1.8/28.1 MB 11.5 MB/s eta 0:00:03\n",
      "   --- ------------------------------------ 2.2/28.1 MB 11.8 MB/s eta 0:00:03\n",
      "   --- ------------------------------------ 2.7/28.1 MB 11.6 MB/s eta 0:00:03\n",
      "   ---- ----------------------------------- 2.9/28.1 MB 10.4 MB/s eta 0:00:03\n",
      "   ----- ---------------------------------- 3.6/28.1 MB 11.5 MB/s eta 0:00:03\n",
      "   ------ --------------------------------- 4.2/28.1 MB 11.7 MB/s eta 0:00:03\n",
      "   ------ --------------------------------- 4.7/28.1 MB 12.1 MB/s eta 0:00:02\n",
      "   ------- -------------------------------- 5.4/28.1 MB 12.2 MB/s eta 0:00:02\n",
      "   -------- ------------------------------- 5.7/28.1 MB 11.7 MB/s eta 0:00:02\n",
      "   --------- ------------------------------ 6.3/28.1 MB 12.3 MB/s eta 0:00:02\n",
      "   --------- ------------------------------ 6.9/28.1 MB 12.6 MB/s eta 0:00:02\n",
      "   ---------- ----------------------------- 7.5/28.1 MB 12.6 MB/s eta 0:00:02\n",
      "   ----------- ---------------------------- 8.0/28.1 MB 12.2 MB/s eta 0:00:02\n",
      "   ------------ --------------------------- 8.6/28.1 MB 12.3 MB/s eta 0:00:02\n",
      "   ------------- -------------------------- 9.4/28.1 MB 12.8 MB/s eta 0:00:02\n",
      "   ------------- -------------------------- 9.7/28.1 MB 12.4 MB/s eta 0:00:02\n",
      "   -------------- ------------------------- 10.1/28.1 MB 12.5 MB/s eta 0:00:02\n",
      "   --------------- ------------------------ 10.7/28.1 MB 12.4 MB/s eta 0:00:02\n",
      "   ---------------- ----------------------- 11.3/28.1 MB 12.8 MB/s eta 0:00:02\n",
      "   ----------------- ---------------------- 12.1/28.1 MB 13.4 MB/s eta 0:00:02\n",
      "   ------------------ --------------------- 12.8/28.1 MB 13.6 MB/s eta 0:00:02\n",
      "   ------------------ --------------------- 13.2/28.1 MB 14.2 MB/s eta 0:00:02\n",
      "   ------------------- -------------------- 13.8/28.1 MB 13.6 MB/s eta 0:00:02\n",
      "   -------------------- ------------------- 14.6/28.1 MB 13.4 MB/s eta 0:00:02\n",
      "   --------------------- ------------------ 15.4/28.1 MB 13.6 MB/s eta 0:00:01\n",
      "   ---------------------- ----------------- 16.1/28.1 MB 14.2 MB/s eta 0:00:01\n",
      "   ------------------------ --------------- 16.9/28.1 MB 14.6 MB/s eta 0:00:01\n",
      "   ------------------------ --------------- 17.4/28.1 MB 13.9 MB/s eta 0:00:01\n",
      "   ------------------------- -------------- 18.2/28.1 MB 14.6 MB/s eta 0:00:01\n",
      "   -------------------------- ------------- 18.9/28.1 MB 14.2 MB/s eta 0:00:01\n",
      "   --------------------------- ------------ 19.7/28.1 MB 14.6 MB/s eta 0:00:01\n",
      "   ---------------------------- ----------- 20.3/28.1 MB 15.2 MB/s eta 0:00:01\n",
      "   ----------------------------- ---------- 21.0/28.1 MB 14.9 MB/s eta 0:00:01\n",
      "   ------------------------------ --------- 21.6/28.1 MB 15.2 MB/s eta 0:00:01\n",
      "   ------------------------------- -------- 22.3/28.1 MB 14.9 MB/s eta 0:00:01\n",
      "   -------------------------------- ------- 23.0/28.1 MB 14.9 MB/s eta 0:00:01\n",
      "   --------------------------------- ------ 23.6/28.1 MB 15.6 MB/s eta 0:00:01\n",
      "   ---------------------------------- ----- 24.3/28.1 MB 15.6 MB/s eta 0:00:01\n",
      "   ----------------------------------- ---- 25.0/28.1 MB 15.6 MB/s eta 0:00:01\n",
      "   ------------------------------------ --- 25.7/28.1 MB 15.6 MB/s eta 0:00:01\n",
      "   ------------------------------------- -- 26.4/28.1 MB 15.6 MB/s eta 0:00:01\n",
      "   -------------------------------------- - 27.1/28.1 MB 15.6 MB/s eta 0:00:01\n",
      "   ---------------------------------------  27.7/28.1 MB 16.4 MB/s eta 0:00:01\n",
      "   ---------------------------------------  28.1/28.1 MB 16.0 MB/s eta 0:00:01\n",
      "   ---------------------------------------  28.1/28.1 MB 16.0 MB/s eta 0:00:01\n",
      "   ---------------------------------------  28.1/28.1 MB 16.0 MB/s eta 0:00:01\n",
      "   ---------------------------------------  28.1/28.1 MB 16.0 MB/s eta 0:00:01\n",
      "   ---------------------------------------- 28.1/28.1 MB 12.3 MB/s eta 0:00:00\n",
      "Installing collected packages: llvmlite, numba\n",
      "Successfully installed llvmlite-0.43.0 numba-0.60.0\n"
     ]
    }
   ],
   "source": [
    "%pip install numba"
   ]
  },
  {
   "cell_type": "code",
   "execution_count": 38,
   "metadata": {},
   "outputs": [
    {
     "name": "stdout",
     "output_type": "stream",
     "text": [
      "index = 48669, location = [8023935 8024036], mismatches = 0\n",
      "index = 48669, location = [7401688 7401789], mismatches = 2\n",
      "index = 49669, location = [7400874 7400975], mismatches = 0\n",
      "index = 49669, location = [8023123 8023224], mismatches = 1\n",
      "index = 66669, location = [7728621 7728722], mismatches = 1\n",
      "index = 66669, location = [6092475 6092576], mismatches = 1\n",
      "index = 67669, location = [7728305 7728406], mismatches = 0\n",
      "index = 67669, location = [6092159 6092260], mismatches = 0\n",
      "index = 68669, location = [6091862 6091963], mismatches = 0\n",
      "index = 75669, location = [7401519 7401620], mismatches = 0\n",
      "index = 75669, location = [8023766 8023867], mismatches = 0\n",
      "index = 77669, location = [7729284 7729385], mismatches = 1\n",
      "index = 77669, location = [6093135 6093236], mismatches = 1\n",
      "index = 79669, location = [6091922 6092023], mismatches = 1\n",
      "index = 80669, location = [6091901 6092002], mismatches = 0\n",
      "index = 373669, location = [23922269 23922370], mismatches = 2\n",
      "index = 374669, location = [23921954 23922055], mismatches = 0\n",
      "index = 376669, location = [23921271 23921372], mismatches = 1\n",
      "index = 379669, location = [23871001 23871102], mismatches = 0\n",
      "index = 381669, location = [23870258 23870359], mismatches = 2\n",
      "index = 382669, location = [23869963 23870064], mismatches = 0\n",
      "index = 449669, location = [97225506 97225607], mismatches = 1\n",
      "index = 453669, location = [97223660 97223761], mismatches = 0\n",
      "index = 454669, location = [97222898 97222999], mismatches = 1\n",
      "index = 520669, location = [33688068 33688169], mismatches = 0\n",
      "index = 686669, location = [45850325 45850426], mismatches = 1\n",
      "index = 690669, location = [45822447 45822548], mismatches = 2\n",
      "index = 772669, location = [47751811 47751912], mismatches = 1\n",
      "index = 783669, location = [47696325 47696426], mismatches = 2\n",
      "index = 783669, location = [47751966 47752067], mismatches = 1\n",
      "index = 783669, location = [52066423 52066524], mismatches = 1\n",
      "index = 784669, location = [47535635 47535736], mismatches = 0\n",
      "index = 792669, location = [47469521 47469622], mismatches = 2\n",
      "index = 797669, location = [52149325 52149426], mismatches = 0\n",
      "index = 798669, location = [52130276 52130377], mismatches = 2\n",
      "index = 802669, location = [52118315 52118416], mismatches = 1\n",
      "index = 803669, location = [47764749 47764850], mismatches = 0\n",
      "index = 804669, location = [47761475 47761576], mismatches = 0\n",
      "index = 805669, location = [47759439 47759540], mismatches = 0\n",
      "index = 806669, location = [47751887 47751988], mismatches = 0\n",
      "index = 807669, location = [47742849 47742950], mismatches = 0\n",
      "index = 808669, location = [47469807 47469908], mismatches = 0\n",
      "index = 808669, location = [47742523 47742624], mismatches = 0\n",
      "index = 809669, location = [47742362 47742463], mismatches = 1\n",
      "index = 810669, location = [47741266 47741367], mismatches = 0\n",
      "index = 811669, location = [47732852 47732953], mismatches = 0\n",
      "index = 814669, location = [47535652 47535753], mismatches = 1\n",
      "index = 815669, location = [47630495 47630550], mismatches = 2\n",
      "index = 815669, location = [52025508 52025563], mismatches = 2\n",
      "index = 815669, location = [51981774 51981829], mismatches = 1\n",
      "index = 815669, location = [47708135 47708190], mismatches = 2\n",
      "index = 815669, location = [47548208 47548263], mismatches = 0\n",
      "index = 815669, location = [47657694 47657749], mismatches = 2\n",
      "index = 899669, location = [76375683 76375784], mismatches = 2\n",
      "index = 943669, location = [50628833 50628934], mismatches = 0\n",
      "index = 947669, location = [50466089 50466190], mismatches = 1\n",
      "index = 957669, location = [51326675 51326776], mismatches = 0\n",
      "index = 958669, location = [51201260 51201361], mismatches = 0\n",
      "index = 960669, location = [51764043 51764144], mismatches = 0\n",
      "index = 961669, location = [51651879 51651980], mismatches = 0\n",
      "index = 961669, location = [51887714 51887815], mismatches = 0\n",
      "index = 961669, location = [51874820 51874921], mismatches = 0\n",
      "index = 963669, location = [51885976 51886077], mismatches = 0\n",
      "index = 963669, location = [51873082 51873183], mismatches = 0\n",
      "index = 963669, location = [51650142 51650243], mismatches = 0\n",
      "index = 964669, location = [51884568 51884669], mismatches = 1\n",
      "index = 964669, location = [51871674 51871775], mismatches = 1\n",
      "index = 964669, location = [51648734 51648835], mismatches = 1\n",
      "index = 965669, location = [51884318 51884419], mismatches = 0\n",
      "index = 965669, location = [51871424 51871525], mismatches = 0\n",
      "index = 965669, location = [51648484 51648585], mismatches = 0\n",
      "index = 966669, location = [51818715 51818816], mismatches = 0\n",
      "index = 966669, location = [51595775 51595876], mismatches = 0\n",
      "index = 967669, location = [51515815 51515916], mismatches = 0\n",
      "index = 968669, location = [51895994 51896095], mismatches = 1\n",
      "index = 968669, location = [51660128 51660229], mismatches = 1\n",
      "index = 969669, location = [51841918 51842019], mismatches = 0\n",
      "index = 969669, location = [51618978 51619079], mismatches = 0\n",
      "index = 977669, location = [52159187 52159288], mismatches = 0\n",
      "index = 978669, location = [52158857 52158958], mismatches = 0\n",
      "index = 983669, location = [52150410 52150511], mismatches = 0\n",
      "index = 985669, location = [52002598 52002699], mismatches = 0\n",
      "index = 986669, location = [52129224 52129325], mismatches = 0\n",
      "index = 987669, location = [52120375 52120476], mismatches = 0\n",
      "index = 988669, location = [52118315 52118416], mismatches = 0\n",
      "index = 989669, location = [52091539 52091640], mismatches = 0\n",
      "index = 989669, location = [47721489 47721590], mismatches = 1\n",
      "index = 990669, location = [52078045 52078146], mismatches = 0\n",
      "index = 991669, location = [52076098 52076199], mismatches = 0\n",
      "index = 992669, location = [52071492 52071593], mismatches = 0\n",
      "index = 993669, location = [47536164 47536265], mismatches = 2\n",
      "index = 993669, location = [47696342 47696443], mismatches = 1\n",
      "index = 993669, location = [47645352 47645453], mismatches = 2\n",
      "index = 993669, location = [52013592 52013693], mismatches = 0\n",
      "index = 993669, location = [47751983 47752084], mismatches = 0\n",
      "index = 993669, location = [52066440 52066541], mismatches = 0\n",
      "index = 994669, location = [47695862 47695963], mismatches = 0\n",
      "index = 995669, location = [52047033 52047134], mismatches = 0\n",
      "index = 996669, location = [52045808 52045909], mismatches = 0\n",
      "index = 997669, location = [52013461 52013562], mismatches = 0\n",
      "index = 998669, location = [52013094 52013195], mismatches = 0\n",
      "index = 998669, location = [47644868 47644969], mismatches = 2\n",
      "index = 1008669, location = [52268045 52268146], mismatches = 0\n",
      "index = 1145669, location = [57275192 57275293], mismatches = 0\n",
      "index = 1146669, location = [57275000 57275101], mismatches = 2\n",
      "index = 1147669, location = [57274658 57274759], mismatches = 1\n",
      "index = 1152669, location = [56960514 56960615], mismatches = 2\n",
      "index = 1153669, location = [56960246 56960347], mismatches = 0\n",
      "index = 1154669, location = [56960073 56960174], mismatches = 0\n",
      "index = 1166669, location = [58635905 58636006], mismatches = 0\n",
      "index = 1384669, location = [67242557 67242658], mismatches = 0\n",
      "index = 1385669, location = [67158156 67158257], mismatches = 0\n",
      "index = 1413669, location = [68306679 68306780], mismatches = 0\n",
      "index = 1414669, location = [68538851 68538952], mismatches = 0\n",
      "index = 1415669, location = [68538285 68538386], mismatches = 1\n",
      "index = 1417669, location = [68463833 68463934], mismatches = 0\n",
      "index = 1723669, location = [76375814 76375915], mismatches = 2\n",
      "index = 1804669, location = [53484396 53484497], mismatches = 2\n",
      "index = 1804669, location = [15294299 15294400], mismatches = 2\n",
      "index = 1804669, location = [45213315 45213416], mismatches = 2\n",
      "index = 1804669, location = [129979667 129979768], mismatches = 1\n",
      "index = 1804669, location = [18027508 18027609], mismatches = 2\n",
      "index = 1865669, location = [97060727 97060828], mismatches = 0\n",
      "index = 1866669, location = [97043657 97043758], mismatches = 1\n",
      "index = 1867669, location = [97042882 97042983], mismatches = 1\n",
      "index = 1874669, location = [30287159 30287260], mismatches = 2\n",
      "index = 1893669, location = [99054292 99054393], mismatches = 2\n",
      "index = 1895669, location = [97814763 97814864], mismatches = 0\n",
      "index = 1897669, location = [97283798 97283899], mismatches = 0\n",
      "index = 1897669, location = [97811011 97811112], mismatches = 0\n",
      "index = 1898669, location = [97810433 97810534], mismatches = 0\n",
      "index = 1898669, location = [97283221 97283322], mismatches = 0\n",
      "index = 1899669, location = [97809754 97809855], mismatches = 1\n",
      "index = 1900669, location = [97805269 97805370], mismatches = 0\n",
      "index = 1901669, location = [97771283 97771384], mismatches = 0\n",
      "index = 1902669, location = [97766714 97766815], mismatches = 0\n",
      "index = 1903669, location = [97763865 97763966], mismatches = 0\n",
      "index = 1904669, location = [97663010 97663111], mismatches = 1\n",
      "index = 1930669, location = [98945149 98945250], mismatches = 2\n",
      "index = 1945669, location = [98382818 98382919], mismatches = 2\n",
      "index = 1946669, location = [98382517 98382618], mismatches = 1\n",
      "index = 1949669, location = [97585857 97585958], mismatches = 0\n",
      "index = 1949669, location = [98719027 98719128], mismatches = 1\n",
      "index = 1962669, location = [99539013 99539114], mismatches = 1\n",
      "index = 1963669, location = [99538498 99538599], mismatches = 0\n",
      "index = 1967669, location = [99507209 99507310], mismatches = 0\n",
      "index = 1968669, location = [99505115 99505216], mismatches = 0\n",
      "index = 1971669, location = [99422485 99422586], mismatches = 0\n",
      "index = 1971669, location = [99486574 99486675], mismatches = 2\n",
      "index = 1972669, location = [99421425 99421526], mismatches = 0\n",
      "index = 1973669, location = [99420427 99420528], mismatches = 0\n",
      "index = 1975669, location = [99373721 99373822], mismatches = 2\n",
      "index = 1976669, location = [99372906 99373007], mismatches = 1\n",
      "index = 1985669, location = [32292107 32292208], mismatches = 2\n",
      "index = 2273669, location = [115387680 115387781], mismatches = 0\n",
      "index = 2274669, location = [115276085 115276186], mismatches = 0\n",
      "index = 2334669, location = [36932058 36932159], mismatches = 2\n",
      "index = 2334669, location = [42070990 42071091], mismatches = 2\n",
      "index = 2334669, location = [80867830 80867931], mismatches = 2\n",
      "index = 2445669, location = [55418612 55418713], mismatches = 2\n",
      "index = 2445669, location = [90993794 90993895], mismatches = 2\n",
      "index = 2445669, location = [61079497 61079598], mismatches = 2\n",
      "index = 2445669, location = [150373804 150373905], mismatches = 2\n",
      "index = 2445669, location = [16905515 16905616], mismatches = 2\n",
      "index = 2445669, location = [113102874 113102975], mismatches = 2\n",
      "index = 2445669, location = [79283753 79283854], mismatches = 2\n",
      "index = 2445669, location = [71466569 71466670], mismatches = 2\n",
      "index = 2445669, location = [53490062 53490163], mismatches = 2\n",
      "index = 2445669, location = [54135722 54135823], mismatches = 2\n",
      "index = 2445669, location = [94137408 94137509], mismatches = 2\n",
      "index = 2445669, location = [75216008 75216109], mismatches = 2\n",
      "index = 2445669, location = [91507726 91507827], mismatches = 2\n",
      "index = 2445669, location = [25877449 25877550], mismatches = 2\n",
      "index = 2445669, location = [59478050 59478151], mismatches = 2\n",
      "index = 2445669, location = [114664343 114664444], mismatches = 2\n",
      "index = 2445669, location = [11498318 11498419], mismatches = 2\n",
      "index = 2445669, location = [150590593 150590694], mismatches = 2\n",
      "index = 2445669, location = [78509529 78509630], mismatches = 2\n",
      "index = 2445669, location = [59717139 59717240], mismatches = 2\n",
      "index = 2445669, location = [61645455 61645556], mismatches = 2\n",
      "index = 2445669, location = [70253721 70253822], mismatches = 1\n",
      "index = 2445669, location = [147299377 147299478], mismatches = 1\n",
      "index = 2445669, location = [36028183 36028284], mismatches = 1\n",
      "index = 2445669, location = [131567343 131567444], mismatches = 1\n",
      "index = 2445669, location = [108775962 108776063], mismatches = 1\n",
      "index = 2445669, location = [41556324 41556425], mismatches = 1\n",
      "index = 2445669, location = [81739337 81739438], mismatches = 2\n",
      "index = 2445669, location = [59061985 59062086], mismatches = 2\n",
      "index = 2445669, location = [99476350 99476451], mismatches = 2\n",
      "index = 2445669, location = [112956598 112956699], mismatches = 2\n",
      "index = 2445669, location = [13666978 13667079], mismatches = 0\n",
      "index = 2445669, location = [126302099 126302200], mismatches = 0\n",
      "index = 2445669, location = [71026020 71026121], mismatches = 1\n",
      "index = 2445669, location = [126424436 126424537], mismatches = 2\n",
      "index = 2516669, location = [130292293 130292394], mismatches = 0\n",
      "index = 2541669, location = [130968840 130968941], mismatches = 0\n",
      "index = 2541669, location = [131003358 131003459], mismatches = 0\n",
      "index = 2542669, location = [131003250 131003351], mismatches = 0\n",
      "index = 2542669, location = [130985999 130986100], mismatches = 0\n",
      "index = 2543669, location = [131004980 131005081], mismatches = 0\n",
      "index = 2543669, location = [130970465 130970566], mismatches = 0\n",
      "index = 2544669, location = [130972660 130972761], mismatches = 1\n",
      "index = 2544669, location = [131007173 131007274], mismatches = 1\n",
      "index = 2545669, location = [131005319 131005420], mismatches = 0\n",
      "index = 2545669, location = [130970804 130970905], mismatches = 0\n",
      "index = 2546669, location = [131005207 131005308], mismatches = 1\n",
      "index = 2546669, location = [130970692 130970793], mismatches = 1\n",
      "index = 2547669, location = [131005107 131005208], mismatches = 1\n",
      "index = 2547669, location = [130970592 130970693], mismatches = 1\n",
      "index = 2549669, location = [130987333 130987434], mismatches = 1\n",
      "index = 2549669, location = [131004584 131004685], mismatches = 0\n",
      "index = 2549669, location = [130970070 130970171], mismatches = 0\n",
      "index = 2550669, location = [130968751 130968852], mismatches = 0\n",
      "index = 2550669, location = [131003269 131003370], mismatches = 0\n",
      "index = 2550669, location = [130986018 130986119], mismatches = 1\n",
      "index = 2553669, location = [130927344 130927445], mismatches = 0\n",
      "index = 2553669, location = [130910075 130910176], mismatches = 0\n",
      "index = 2553669, location = [130892813 130892914], mismatches = 1\n",
      "index = 2554669, location = [130927143 130927244], mismatches = 0\n",
      "index = 2554669, location = [130909874 130909975], mismatches = 0\n",
      "index = 2554669, location = [130892612 130892713], mismatches = 0\n",
      "index = 2555669, location = [130912130 130912231], mismatches = 0\n",
      "index = 2555669, location = [130929395 130929496], mismatches = 0\n",
      "index = 2555669, location = [130894864 130894965], mismatches = 0\n",
      "index = 2653669, location = [136376836 136376937], mismatches = 2\n",
      "index = 2657669, location = [136717693 136717794], mismatches = 1\n",
      "index = 2660669, location = [136718761 136718862], mismatches = 0\n",
      "index = 2661669, location = [136377097 136377198], mismatches = 0\n",
      "index = 2661669, location = [136827070 136827171], mismatches = 0\n",
      "index = 2662669, location = [136712834 136712935], mismatches = 0\n",
      "index = 2662669, location = [136826596 136826697], mismatches = 0\n",
      "index = 2663669, location = [136825549 136825650], mismatches = 1\n",
      "index = 2663669, location = [136711787 136711888], mismatches = 0\n",
      "index = 2663669, location = [136375577 136375678], mismatches = 0\n",
      "index = 2665669, location = [140318695 140318796], mismatches = 1\n",
      "index = 2665669, location = [136124471 136124572], mismatches = 0\n",
      "index = 2665669, location = [136136476 136136577], mismatches = 0\n",
      "index = 2665669, location = [136717508 136717609], mismatches = 0\n",
      "index = 2718669, location = [141886181 141886282], mismatches = 2\n",
      "index = 2719669, location = [141881701 141881802], mismatches = 0\n",
      "index = 2751669, location = [144575051 144575152], mismatches = 1\n",
      "index = 2753669, location = [144999205 144999306], mismatches = 0\n",
      "index = 2754669, location = [144992235 144992336], mismatches = 2\n",
      "index = 2756669, location = [144858678 144858779], mismatches = 1\n",
      "index = 2757669, location = [144853766 144853867], mismatches = 0\n",
      "index = 2758669, location = [144844115 144844216], mismatches = 0\n",
      "index = 2759669, location = [144843121 144843222], mismatches = 1\n",
      "index = 2760669, location = [144840489 144840590], mismatches = 0\n",
      "index = 2765669, location = [144672066 144672167], mismatches = 0\n",
      "index = 2766669, location = [144669411 144669512], mismatches = 0\n",
      "index = 2768669, location = [144668110 144668211], mismatches = 0\n",
      "index = 2769669, location = [144654433 144654534], mismatches = 1\n",
      "index = 2775669, location = [144618254 144618355], mismatches = 0\n",
      "index = 2842669, location = [147844037 147844138], mismatches = 1\n",
      "index = 2843669, location = [147826452 147826553], mismatches = 0\n",
      "index = 2844669, location = [147825806 147825907], mismatches = 2\n",
      "index = 2847669, location = [147818378 147818479], mismatches = 0\n",
      "index = 2848669, location = [147811047 147811148], mismatches = 0\n",
      "index = 2849669, location = [147809596 147809697], mismatches = 0\n",
      "index = 2850669, location = [147808982 147809083], mismatches = 0\n",
      "index = 2857669, location = [147776429 147776530], mismatches = 0\n",
      "index = 2858669, location = [147775737 147775838], mismatches = 1\n",
      "index = 2859669, location = [147774334 147774435], mismatches = 0\n",
      "index = 2860669, location = [147767044 147767145], mismatches = 1\n",
      "index = 2863669, location = [147759462 147759563], mismatches = 0\n",
      "index = 2864669, location = [147758608 147758709], mismatches = 1\n",
      "index = 2877669, location = [148179857 148179958], mismatches = 0\n",
      "index = 2877669, location = [148132395 148132496], mismatches = 0\n",
      "index = 2879669, location = [148179173 148179274], mismatches = 0\n",
      "index = 2879669, location = [148131711 148131812], mismatches = 0\n",
      "index = 2976669, location = [149716426 149716527], mismatches = 0\n",
      "index = 2977669, location = [149691622 149691723], mismatches = 2\n",
      "index = 2979669, location = [149632931 149633032], mismatches = 0\n",
      "index = 2996669, location = [150527038 150527139], mismatches = 1\n",
      "index = 2997669, location = [150526827 150526928], mismatches = 2\n",
      "index = 2998669, location = [150526731 150526832], mismatches = 1\n",
      "index = 3023669, location = [150560254 150560355], mismatches = 0\n",
      "index = 3024669, location = [150559796 150559897], mismatches = 0\n",
      "index = 3025669, location = [150453460 150453561], mismatches = 0\n",
      "index = 3025669, location = [149956346 149956447], mismatches = 0\n",
      "index = 3026669, location = [150453321 150453422], mismatches = 0\n",
      "index = 3026669, location = [149956207 149956308], mismatches = 0\n",
      "index = 3027669, location = [150453094 150453195], mismatches = 1\n",
      "index = 3027669, location = [149955980 149956081], mismatches = 1\n",
      "index = 3028669, location = [150452962 150453063], mismatches = 0\n",
      "index = 3028669, location = [149955848 149955949], mismatches = 0\n",
      "index = 3029669, location = [150451365 150451466], mismatches = 1\n",
      "index = 3030669, location = [150418238 150418339], mismatches = 0\n"
     ]
    }
   ],
   "source": [
    "for i in range(669, len(reads), 1000):\n",
    "    read = reads[i]\n",
    "    temp = backwardRead(read, reference, firstCol, lastCol, mapping, milestone, AMilestones, CMilestones, GMilestones, TMilestones)\n",
    "    read = removeN(read)\n",
    "    read = reverseComplement(read)\n",
    "    if temp is not None:\n",
    "        for location in temp:\n",
    "            mis = 0\n",
    "            for j in range(len(read)):\n",
    "                if reference[location[0] + j] != read[j]:\n",
    "                    mis += 1\n",
    "                if mis > 2:\n",
    "                    print(f'index = {i}, location = {location}, mismatches = {mis}')\n",
    "                    print('DANGERRRRRRRRRRRRRR')\n",
    "                    break\n",
    "            print(f\"index = {i}, location = {location}, mismatches = {mis}\")"
   ]
  },
  {
   "cell_type": "code",
   "execution_count": 32,
   "metadata": {},
   "outputs": [
    {
     "name": "stdout",
     "output_type": "stream",
     "text": [
      "None\n"
     ]
    }
   ],
   "source": [
    "print(forwardRead(reads[3669], reference, firstCol, lastCol, mapping, milestone, AMilestones, CMilestones, GMilestones, TMilestones))"
   ]
  },
  {
   "cell_type": "code",
   "execution_count": 279,
   "metadata": {},
   "outputs": [
    {
     "name": "stdout",
     "output_type": "stream",
     "text": [
      "2\n"
     ]
    }
   ],
   "source": [
    "mis = 0\n",
    "ind = 0\n",
    "for i in range(len(reads[ind])):\n",
    "    if reference[2355249 + i] != reads[ind][i]:\n",
    "        mis += 1\n",
    "print(mis)"
   ]
  },
  {
   "cell_type": "code",
   "execution_count": 265,
   "metadata": {},
   "outputs": [
    {
     "data": {
      "text/plain": [
       "101"
      ]
     },
     "execution_count": 265,
     "metadata": {},
     "output_type": "execute_result"
    }
   ],
   "source": [
    "len(reads[9999])"
   ]
  },
  {
   "cell_type": "code",
   "execution_count": 274,
   "metadata": {},
   "outputs": [
    {
     "name": "stdout",
     "output_type": "stream",
     "text": [
      "TTGTCCCCGTAGCAACCGAGATCCCCAGTGCCTAGATCATCCGCCATGATCAGTAGGATATTTGGTTTAAAGGCATTTGCAGTTTTAGGTTCACACGTCTT TTGTTCCCGTAGCAACCGAGATCCCCAGTGCCTAGATCATCCGCCATGATCAGTAGGATATTTGGTTTAAAGGCATTTGCAGTTTTAGGTTCACACGTCTT\n"
     ]
    }
   ],
   "source": [
    "print(reads[9999], reference[2483665:2483665 + len(reads[9999])])"
   ]
  },
  {
   "cell_type": "code",
   "execution_count": 99,
   "metadata": {},
   "outputs": [
    {
     "name": "stdout",
     "output_type": "stream",
     "text": [
      "0\n",
      "2\n",
      "4\n",
      "6\n",
      "8\n",
      "10\n",
      "12\n",
      "14\n",
      "16\n",
      "18\n",
      "20\n",
      "22\n",
      "24\n",
      "26\n",
      "28\n",
      "30\n",
      "32\n",
      "34\n",
      "36\n",
      "38\n",
      "40\n",
      "42\n",
      "44\n",
      "46\n",
      "48\n",
      "50\n",
      "52\n",
      "54\n",
      "56\n",
      "58\n",
      "60\n",
      "62\n",
      "64\n",
      "66\n",
      "68\n",
      "70\n",
      "72\n",
      "74\n",
      "76\n",
      "78\n",
      "80\n",
      "82\n",
      "84\n",
      "86\n",
      "88\n",
      "90\n",
      "92\n",
      "94\n",
      "96\n",
      "98\n",
      "None\n"
     ]
    }
   ],
   "source": [
    "print(main())"
   ]
  },
  {
   "cell_type": "code",
   "execution_count": null,
   "metadata": {},
   "outputs": [],
   "source": [
    "#armaan 1\n",
    "r2 = 271.5\n",
    "r3 = 160\n",
    "r4 = 227\n",
    "r5 = 403\n",
    "g2 = 288\n",
    "g3 = 170\n",
    "g4 = 141.5\n",
    "g5 = 359"
   ]
  },
  {
   "cell_type": "code",
   "execution_count": 2,
   "metadata": {},
   "outputs": [
    {
     "name": "stdout",
     "output_type": "stream",
     "text": [
      "0.48525469168900803 0.48484848484848486 0.6160108548168249 0.5288713910761155\n"
     ]
    }
   ],
   "source": [
    "print(r2/(r2 + g2), r3/(r3 + g3), r4/(r4 + g4), r5/(r5 + g5))"
   ]
  },
  {
   "cell_type": "code",
   "execution_count": 3,
   "metadata": {},
   "outputs": [],
   "source": [
    "#armaan 2\n",
    "r2 = 208\n",
    "r3 = 147.5\n",
    "r4 = 240\n",
    "r5 = 484\n",
    "g2 = 128\n",
    "g3 = 70.5\n",
    "g4 = 54\n",
    "g5 = 130"
   ]
  },
  {
   "cell_type": "code",
   "execution_count": null,
   "metadata": {},
   "outputs": [
    {
     "name": "stdout",
     "output_type": "stream",
     "text": [
      "0.6190476190476191 0.676605504587156 0.8163265306122449 0.7882736156351792\n"
     ]
    }
   ],
   "source": [
    "print(r2/(r2 + g2), r3/(r3 + g3), r4/(r4 + g4), r5/(r5 + g5))"
   ]
  },
  {
   "cell_type": "code",
   "execution_count": 5,
   "metadata": {},
   "outputs": [],
   "source": [
    "#armaan 3\n",
    "r2 = 144.5\n",
    "r3 = 90\n",
    "r4 = 173\n",
    "r5 = 280.5\n",
    "g2 = 191.5\n",
    "g3 = 128\n",
    "g4 = 121\n",
    "g5 = 333.5"
   ]
  },
  {
   "cell_type": "code",
   "execution_count": 6,
   "metadata": {},
   "outputs": [
    {
     "name": "stdout",
     "output_type": "stream",
     "text": [
      "0.43005952380952384 0.41284403669724773 0.5884353741496599 0.4568403908794788\n"
     ]
    }
   ],
   "source": [
    "print(r2/(r2 + g2), r3/(r3 + g3), r4/(r4 + g4), r5/(r5 + g5))"
   ]
  },
  {
   "cell_type": "code",
   "execution_count": 7,
   "metadata": {},
   "outputs": [],
   "source": [
    "#sai\n",
    "r2 = 126.5\n",
    "r3 = 34\n",
    "r4 = 58\n",
    "r5 = 176.5\n",
    "g2 = 170.5\n",
    "g3 = 69\n",
    "g4 = 61\n",
    "g5 = 229.5"
   ]
  },
  {
   "cell_type": "code",
   "execution_count": 8,
   "metadata": {},
   "outputs": [
    {
     "name": "stdout",
     "output_type": "stream",
     "text": [
      "0.42592592592592593 0.3300970873786408 0.48739495798319327 0.43472906403940886\n"
     ]
    }
   ],
   "source": [
    "print(r2/(r2 + g2), r3/(r3 + g3), r4/(r4 + g4), r5/(r5 + g5))"
   ]
  },
  {
   "cell_type": "code",
   "execution_count": 18,
   "metadata": {},
   "outputs": [],
   "source": [
    "r2 = 148.5\n",
    "r3 = 80.5\n",
    "r4 = 180\n",
    "r5 = 262.5\n",
    "g2 = 181.5\n",
    "g3 = 139.5\n",
    "g4 = 130\n",
    "g5 = 345.5"
   ]
  },
  {
   "cell_type": "code",
   "execution_count": 19,
   "metadata": {},
   "outputs": [
    {
     "name": "stdout",
     "output_type": "stream",
     "text": [
      "0.45 0.3659090909090909 0.5806451612903226 0.4317434210526316\n"
     ]
    }
   ],
   "source": [
    "print(r2/(r2 + g2), r3/(r3 + g3), r4/(r4 + g4), r5/(r5 + g5))"
   ]
  }
 ],
 "metadata": {
  "kernelspec": {
   "display_name": "DataAnalytics",
   "language": "python",
   "name": "python3"
  },
  "language_info": {
   "codemirror_mode": {
    "name": "ipython",
    "version": 3
   },
   "file_extension": ".py",
   "mimetype": "text/x-python",
   "name": "python",
   "nbconvert_exporter": "python",
   "pygments_lexer": "ipython3",
   "version": "3.9.13"
  }
 },
 "nbformat": 4,
 "nbformat_minor": 2
}
