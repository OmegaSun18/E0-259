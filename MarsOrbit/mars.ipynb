{
 "cells": [
  {
   "cell_type": "code",
   "execution_count": 1,
   "metadata": {},
   "outputs": [],
   "source": [
    "import numpy as np\n",
    "import get_data\n",
    "from scipy.optimize import fsolve\n",
    "from scipy.optimize import minimize\n",
    "import math"
   ]
  },
  {
   "cell_type": "code",
   "execution_count": 2,
   "metadata": {},
   "outputs": [],
   "source": [
    "data = np.genfromtxt(\n",
    "        r\".\\data\\01_data_mars_opposition_updated.csv\",\n",
    "        delimiter=\",\",\n",
    "        skip_header=True,\n",
    "        dtype=\"int\",\n",
    "    )"
   ]
  },
  {
   "cell_type": "code",
   "execution_count": 3,
   "metadata": {},
   "outputs": [],
   "source": [
    "times = get_data.get_times(data)\n",
    "oppositions = get_data.get_oppositions(data)"
   ]
  },
  {
   "cell_type": "code",
   "execution_count": 4,
   "metadata": {},
   "outputs": [
    {
     "name": "stdout",
     "output_type": "stream",
     "text": [
      "Times:  [   0.          770.10208333 1534.73819444 2299.24444444 3069.20277778\n",
      " 3854.25833333 4663.66388889 5459.96388889 6234.59236111 7000.52152778\n",
      " 7764.52916667 8531.61944444]\n",
      "Oppositions:  [[ 6.64763889e+01  1.66666667e+00]\n",
      " [ 1.06925000e+02  4.10000000e+00]\n",
      " [ 1.41602778e+02  4.53333333e+00]\n",
      " [ 1.75716667e+02  3.68333333e+00]\n",
      " [ 2.14383333e+02  1.20000000e+00]\n",
      " [ 2.66716667e+02 -4.00000000e+00]\n",
      " [ 3.42266667e+02 -6.03333333e+00]\n",
      " [ 4.75277778e+01  1.33333333e-01]\n",
      " [ 9.24666667e+01  3.55000000e+00]\n",
      " [ 1.28633333e+02  4.50000000e+00]\n",
      " [ 1.62450000e+02  4.16666667e+00]\n",
      " [ 1.98619444e+02  2.43333333e+00]]\n"
     ]
    }
   ],
   "source": [
    "print(\"Times: \", times)\n",
    "print(\"Oppositions: \", oppositions)"
   ]
  },
  {
   "cell_type": "code",
   "execution_count": 5,
   "metadata": {},
   "outputs": [],
   "source": [
    "# def equations(t, x1, y1, dx, dy, h, k, r):\n",
    "#     return (x1 + t * dx - h)**2 + (y1 + t * dy - k)**2 - r**2\n",
    "\n",
    "# # # Define the ray function\n",
    "# def ray(x1, y1, dx, dy, t):\n",
    "#     return x1 + t * dx, y1 + t * dy\n",
    "\n",
    "# def equation2(x, c, e_1, e_2, z, r):\n",
    "#     return (x - np.cos(c)) ** 2 + (e_1 * np.sin(e_2) - np.sin(c) + x * np.tan(z) - e_1*np.cos(e_2)*np.tan(z)) ** 2 - r ** 2 \n",
    "\n",
    "def y_intersection(e_1, e_2, z, x):\n",
    "    return e_1 * math.sin(e_2) + math.tan(z) * x - math.tan(z) * e_1 * math.cos(e_2)\n",
    "\n",
    "def quad_form(e_1, e_2, c, z, r):\n",
    "    a = 1 + math.tan(z)**2\n",
    "    b = -2 * math.cos(c) + 2 * math.tan(z) * (e_1 * math.sin(e_2) - math.sin(c) - e_1 * math.cos(e_2) * math.tan(z))\n",
    "    ci = math.cos(c)**2 + (e_1 * math.sin(e_2) - math.sin(c) - e_1 * math.cos(e_2) * math.tan(z))**2 - r**2\n",
    "    discriminant = b**2 - 4*a*ci\n",
    "\n",
    "    if discriminant < 0:\n",
    "        raise ValueError(\"No real roots\")\n",
    "    \n",
    "    root1 = (-b + math.sqrt(discriminant))/ (2*a)\n",
    "    root2 = (-b - math.sqrt(discriminant))/ (2*a)\n",
    "    \n",
    "    return root1, root2"
   ]
  },
  {
   "cell_type": "code",
   "execution_count": 7,
   "metadata": {},
   "outputs": [],
   "source": [
    "def Erros_and_MaxError(x):\n",
    "    c, r, e1, e2, z, s = x\n",
    "    errors = []\n",
    "    c_rad = math.radians(c)\n",
    "    e2_rad = math.radians(e2)\n",
    "    equant_longitudes = []\n",
    "\n",
    "    for i in times:\n",
    "        equant_long = z + s * (i - times[0])\n",
    "        equant_long = equant_long - 360 * math.floor(equant_long / 360)\n",
    "        equant_long = math.radians(equant_long)\n",
    "        equant_longitudes.append(equant_long)\n",
    "    \n",
    "    predicted_angles = []\n",
    "\n",
    "    for equant_long in equant_longitudes:\n",
    "        predicted_x1, predicted_x2 = quad_form(e1, e2_rad, c_rad, equant_long, r)\n",
    "        predicted_y1, predicted_y2 = y_intersection(e1, e2_rad, equant_long, predicted_x1), y_intersection(e1, e2_rad, equant_long, predicted_x2)\n",
    "        if predicted_y1 > predicted_y2:\n",
    "            if 0 <= equant_long <= math.pi:\n",
    "                predicted_x = predicted_x1\n",
    "                predicted_y = predicted_y1\n",
    "            else:\n",
    "                predicted_x = predicted_x2\n",
    "                predicted_y = predicted_y2\n",
    "        else:\n",
    "            if 0 <= equant_long <= math.pi:\n",
    "                predicted_x = predicted_x2\n",
    "                predicted_y = predicted_y2\n",
    "            else:\n",
    "                predicted_x = predicted_x1\n",
    "                predicted_y = predicted_y1\n",
    "\n",
    "        if predicted_x == 0:\n",
    "            raise ValueError(\"Divide by 0 Error\")\n",
    "        if predicted_x > 0 and predicted_y > 0:\n",
    "            predicted_angle = math.degrees(math.atan(predicted_y / predicted_x))\n",
    "        elif predicted_x < 0 and predicted_y > 0:\n",
    "            predicted_angle = 180 + math.degrees(math.atan(predicted_y / predicted_x))\n",
    "        elif predicted_x < 0 and predicted_y < 0:\n",
    "            predicted_angle = 180 + math.degrees(math.atan(predicted_y / predicted_x))\n",
    "        else:\n",
    "            predicted_angle = 360 + math.degrees(math.atan(predicted_y / predicted_x))\n",
    "        predicted_angles.append(predicted_angle)\n",
    "    \n",
    "    errors = []\n",
    "    for j in range(len(predicted_angles)):\n",
    "        errors.append(predicted_angles[j] - oppositions[j][0])\n",
    "\n",
    "    max_error = 0\n",
    "    for k in errors:\n",
    "        if abs(k) > abs(max_error):\n",
    "            max_error = k\n",
    "    return errors, max_error\n"
   ]
  },
  {
   "cell_type": "code",
   "execution_count": 8,
   "metadata": {},
   "outputs": [],
   "source": [
    "def MarsEqantOrbit(x):\n",
    "    c, r, e1, e2, z, s = x\n",
    "    errors = []\n",
    "    c_rad = math.radians(c)\n",
    "    e2_rad = math.radians(e2)\n",
    "    equant_longitudes = []\n",
    "\n",
    "    for i in times:\n",
    "        equant_long = z + s * (i - times[0])\n",
    "        equant_long = equant_long - 360 * math.floor(equant_long / 360)\n",
    "        equant_long = math.radians(equant_long)\n",
    "        equant_longitudes.append(equant_long)\n",
    "    \n",
    "    predicted_angles = []\n",
    "\n",
    "    for equant_long in equant_longitudes:\n",
    "        predicted_x1, predicted_x2 = quad_form(e1, e2_rad, c_rad, equant_long, r)\n",
    "        predicted_y1, predicted_y2 = y_intersection(e1, e2_rad, equant_long, predicted_x1), y_intersection(e1, e2_rad, equant_long, predicted_x2)\n",
    "        if predicted_y1 > predicted_y2:\n",
    "            if 0 <= equant_long <= math.pi:\n",
    "                predicted_x = predicted_x1\n",
    "                predicted_y = predicted_y1\n",
    "            else:\n",
    "                predicted_x = predicted_x2\n",
    "                predicted_y = predicted_y2\n",
    "        else:\n",
    "            if 0 <= equant_long <= math.pi:\n",
    "                predicted_x = predicted_x2\n",
    "                predicted_y = predicted_y2\n",
    "            else:\n",
    "                predicted_x = predicted_x1\n",
    "                predicted_y = predicted_y1\n",
    "\n",
    "        if predicted_x == 0:\n",
    "            raise ValueError(\"Divide by 0 Error\")\n",
    "        if predicted_x > 0 and predicted_y > 0:\n",
    "            predicted_angle = math.degrees(math.atan(predicted_y / predicted_x))\n",
    "        elif predicted_x < 0 and predicted_y > 0:\n",
    "            predicted_angle = 180 + math.degrees(math.atan(predicted_y / predicted_x))\n",
    "        elif predicted_x < 0 and predicted_y < 0:\n",
    "            predicted_angle = 180 + math.degrees(math.atan(predicted_y / predicted_x))\n",
    "        else:\n",
    "            predicted_angle = 360 + math.degrees(math.atan(predicted_y / predicted_x))\n",
    "        predicted_angles.append(predicted_angle)\n",
    "    \n",
    "    errors = []\n",
    "    for j in range(len(predicted_angles)):\n",
    "        errors.append(predicted_angles[j] - oppositions[j][0])\n",
    "\n",
    "    predicted = np.array(predicted_angles)\n",
    "    actual = np.array([oppositions[k][0] for k in range(len(oppositions))])\n",
    "    squared_error = np.sum((predicted - actual)**2)\n",
    "    return squared_error"
   ]
  },
  {
   "cell_type": "code",
   "execution_count": 19,
   "metadata": {},
   "outputs": [],
   "source": [
    "def bestMarsOrbitParams(times, oppositions):\n",
    "    '''Returns the best parameters for the Mars orbit by doing an exhaustive search'''\n",
    "    # [c, r, e1, e2, z, s]\n",
    "    initial_guess = [0, 0, 0, 0, 0, 0]\n",
    "    times = times\n",
    "    oppositions = oppositions\n",
    "    s = 0.5241\n",
    "    min_error = 100\n",
    "    min_errors_list = []\n",
    "    tolerance = 0\n",
    "    r_out, s_out, c_out, e1_out, e2_out, z_out = 0, 0, 0, 0, 0, 0\n",
    "    for r in np.linspace(1, 10, 10):\n",
    "        for c in np.linspace(0, 360, 18):\n",
    "            for e1 in np.linspace(1, r - 0.01, 10):\n",
    "                for e2 in np.linspace(0, 360, 18):\n",
    "                    for z in np.linspace(0, 360, 18):\n",
    "                        try:\n",
    "                            result = minimize(MarsEqantOrbit, [c, r, e1, e2, z, s], method='powell')\n",
    "                            errors, maxError = Erros_and_MaxError(list(result.x))\n",
    "                            if abs(maxError) < 0.06 and abs(maxError) <= abs(min_error):\n",
    "                                min_error = maxError\n",
    "                                min_errors_list = errors\n",
    "                                c_out, r_out, e1_out, e2_out, z_out, s_out = list(result.x)     \n",
    "                                print(f\"r = {r}, s = {s}, c = {c}, e1 = {e1}, e2 = {e2}, z = {z}, errors = {errors}, maxError = {maxError}\")\n",
    "                                print(f\"r_out = {r_out}, s_out = {s_out}, c_out = {c_out}, e1_out = {e1_out}, e2_our = {e2_out}, z_out = {z_out}, min_errors_list = {min_errors_list}, min_error = {min_error}\")\n",
    "                                tolerance = 0\n",
    "                            else:\n",
    "                                tolerance += 1\n",
    "                            if tolerance > 10000:\n",
    "                                    return r_out, s_out, c_out, e1_out, e2_out, z_out, min_errors_list, min_error\n",
    "                        except:\n",
    "                            continue\n",
    "    return r_out, s_out, c_out, e1_out, e2_out, z_out, min_errors_list, min_error"
   ]
  },
  {
   "cell_type": "code",
   "execution_count": 20,
   "metadata": {},
   "outputs": [
    {
     "name": "stdout",
     "output_type": "stream",
     "text": [
      "r = 1.0, s = 0.5241, c = 0.0, e1 = 1.0, e2 = 42.35294117647059, z = 127.05882352941177, errors = [-0.03850397277216189, 0.01245371053163069, 0.02007102331018018, -0.006523968927382384, 0.0291810797175458, -0.01497234337671216, 0.0060700517216787375, 0.018329512784482915, 0.007847269498839182, 0.003374246548418114, -0.03486490386185892, -0.002339765974312513], maxError = -0.03850397277216189\n",
      "r_out = 8.781247552976625, s_out = 0.5240814517028298, c_out = 148.9484369384784, e1_out = 1.6314087874881058, e2_our = 148.92930635263534, z_out = 55.83746369573622, min_errors_list = [-0.03850397277216189, 0.01245371053163069, 0.02007102331018018, -0.006523968927382384, 0.0291810797175458, -0.01497234337671216, 0.0060700517216787375, 0.018329512784482915, 0.007847269498839182, 0.003374246548418114, -0.03486490386185892, -0.002339765974312513], min_error = -0.03850397277216189\n",
      "r = 1.0, s = 0.5241, c = 211.76470588235293, e1 = 0.991111111111111, e2 = 169.41176470588235, z = 63.529411764705884, errors = [-0.03849379419852994, 0.012566395026880173, 0.02011326764662158, -0.006605633746687545, 0.02908460849201333, -0.014935834839207018, 0.005979192720417359, 0.01826501167928285, 0.007943746224839288, 0.003459088710485503, -0.034902869111959944, -0.002451540876108993], maxError = -0.03849379419852994\n",
      "r_out = 8.782705547806902, s_out = 0.524081451814128, c_out = -211.05186926980383, e1_out = 1.6316841763445273, e2_our = 148.92946310180187, z_out = 55.837449088204544, min_errors_list = [-0.03849379419852994, 0.012566395026880173, 0.02011326764662158, -0.006605633746687545, 0.02908460849201333, -0.014935834839207018, 0.005979192720417359, 0.01826501167928285, 0.007943746224839288, 0.003459088710485503, -0.034902869111959944, -0.002451540876108993], min_error = -0.03849379419852994\n",
      "r = 1.0, s = 0.5241, c = 296.4705882352941, e1 = 0.991111111111111, e2 = 317.6470588235294, z = 84.70588235294117, errors = [-0.038477557318088884, 0.012698430106794945, 0.02028923993884746, -0.00652466220682868, 0.029054580738744562, -0.014864241604357176, 0.006044352031267408, 0.01807068635029907, 0.007846579130017517, 0.0034678609272589256, -0.03494017860023746, -0.0026297565388517796], maxError = -0.038477557318088884\n",
      "r_out = 8.78355920816632, s_out = 0.524081417247065, c_out = 508.9385041188925, e1_out = -1.6318368758406059, e2_our = 328.92947239170155, z_out = 55.83770451578513, min_errors_list = [-0.038477557318088884, 0.012698430106794945, 0.02028923993884746, -0.00652466220682868, 0.029054580738744562, -0.014864241604357176, 0.006044352031267408, 0.01807068635029907, 0.007846579130017517, 0.0034678609272589256, -0.03494017860023746, -0.0026297565388517796], min_error = -0.038477557318088884\n",
      "r = 1.0, s = 0.5241, c = 296.4705882352941, e1 = 0.99, e2 = 317.6470588235294, z = 84.70588235294117, errors = [-0.038465835903863876, 0.012705334672531876, 0.020284909559165953, -0.006528503303570687, 0.029064294016308168, -0.014854398288605353, 0.006025224286986486, 0.018072315544898743, 0.007853025493020027, 0.003463037634958255, -0.034950203762861065, -0.002630247857979384], maxError = -0.038465835903863876\n",
      "r_out = 8.783626823014524, s_out = 0.5240814164030094, c_out = 508.93957983801414, e1_out = -1.631849024343514, e2_our = 328.92948673961683, z_out = 55.837696391961565, min_errors_list = [-0.038465835903863876, 0.012705334672531876, 0.020284909559165953, -0.006528503303570687, 0.029064294016308168, -0.014854398288605353, 0.006025224286986486, 0.018072315544898743, 0.007853025493020027, 0.003463037634958255, -0.034950203762861065, -0.002630247857979384], min_error = -0.038465835903863876\n",
      "r = 1.0, s = 0.5241, c = 317.6470588235294, e1 = 0.9922222222222222, e2 = 317.6470588235294, z = 84.70588235294117, errors = [-0.038407750437457366, 0.01262397719335695, 0.020226161416815103, -0.00654707899099094, 0.028920153524438774, -0.01521746263733803, 0.006125580287687171, 0.018344034274399235, 0.007925667846023998, 0.0034948125044422795, -0.03486192775949348, -0.0025806943843065255], maxError = -0.038407750437457366\n",
      "r_out = 8.781414338180735, s_out = 0.5240814394667179, c_out = 508.9384702588459, e1_out = -1.631467905685558, e2_our = 328.9295564007995, z_out = 55.83758985905798, min_errors_list = [-0.038407750437457366, 0.01262397719335695, 0.020226161416815103, -0.00654707899099094, 0.028920153524438774, -0.01521746263733803, 0.006125580287687171, 0.018344034274399235, 0.007925667846023998, 0.0034948125044422795, -0.03486192775949348, -0.0025806943843065255], min_error = -0.038407750437457366\n",
      "r = 2.0, s = 0.5241, c = 42.35294117647059, e1 = 1.6600000000000001, e2 = 42.35294117647059, z = 105.88235294117646, errors = [-0.038336549603116055, 0.012727430443348453, 0.020314581149989408, -0.006417714974531918, 0.02919327569279062, -0.014878325921188207, 0.006044701972029998, 0.01818998355060586, 0.007858109618894105, 0.003431680925245928, -0.03491550502187124, -0.0025373976440903334], maxError = -0.038336549603116055\n",
      "r_out = 8.782513707666624, s_out = 0.5240814073252124, c_out = 508.9435228824688, e1_out = 1.6316433183053713, e2_our = 148.92961031551755, z_out = 55.83774094888147, min_errors_list = [-0.038336549603116055, 0.012727430443348453, 0.020314581149989408, -0.006417714974531918, 0.02919327569279062, -0.014878325921188207, 0.006044701972029998, 0.01818998355060586, 0.007858109618894105, 0.003431680925245928, -0.03491550502187124, -0.0025373976440903334], min_error = -0.038336549603116055\n",
      "r = 2.0, s = 0.5241, c = 42.35294117647059, e1 = 1.88, e2 = 105.88235294117646, z = 0.0, errors = [-0.03783825987146372, 0.011615045137233437, 0.020202231247935742, -0.005125848239771358, 0.02964622265409389, -0.01734111781684078, 0.006929875888772585, 0.019440153039440133, 0.00663397730797044, 0.002390166937516369, -0.03436834999067173, -0.0017446279649391272], maxError = -0.03783825987146372\n",
      "r_out = 8.756077738602212, s_out = 0.5240813365369767, c_out = 148.93002318521852, e1_out = 1.6268113029936109, e2_our = 148.9300623563169, z_out = 55.83808031537789, min_errors_list = [-0.03783825987146372, 0.011615045137233437, 0.020202231247935742, -0.005125848239771358, 0.02964622265409389, -0.01734111781684078, 0.006929875888772585, 0.019440153039440133, 0.00663397730797044, 0.002390166937516369, -0.03436834999067173, -0.0017446279649391272], min_error = -0.03783825987146372\n",
      "r = 2.0, s = 0.5241, c = 63.529411764705884, e1 = 1.44, e2 = 169.41176470588235, z = 63.529411764705884, errors = [-0.03693905618801807, 0.011053732525141413, 0.019304411366363183, -0.004970163782786585, 0.030612846191871768, -0.01815719072368438, 0.005907546015862408, 0.020741713889577795, 0.006714707921787522, 0.0015263035248835877, -0.03460431673755693, -0.0007854435260412629], maxError = -0.03693905618801807\n",
      "r_out = 8.744542114387844, s_out = 0.5240813584016432, c_out = 149.0223788785404, e1_out = 1.6246947522465707, e2_our = 148.93124280610644, z_out = 55.83690190486247, min_errors_list = [-0.03693905618801807, 0.011053732525141413, 0.019304411366363183, -0.004970163782786585, 0.030612846191871768, -0.01815719072368438, 0.005907546015862408, 0.020741713889577795, 0.006714707921787522, 0.0015263035248835877, -0.03460431673755693, -0.0007854435260412629], min_error = -0.03693905618801807\n",
      "r = 2.0, s = 0.5241, c = 148.23529411764704, e1 = 1.99, e2 = 127.05882352941177, z = 42.35294117647059, errors = [-0.035718334978497523, 0.008388291494966893, 0.019685620326669095, -0.0011697139880197938, 0.03148490314487162, -0.024732998222020797, 0.00905612149620083, 0.0235053324343113, 0.0029886868638300257, -0.001144699438555108, -0.0330753360735514, 0.0007062421224190985], maxError = -0.035718334978497523\n",
      "r_out = 8.675739576579469, s_out = 0.5240810672129796, c_out = 148.92942622988025, e1_out = 1.6121185315292108, e2_our = 148.93185574673853, z_out = 55.83890855472198, min_errors_list = [-0.035718334978497523, 0.008388291494966893, 0.019685620326669095, -0.0011697139880197938, 0.03148490314487162, -0.024732998222020797, 0.00905612149620083, 0.0235053324343113, 0.0029886868638300257, -0.001144699438555108, -0.0330753360735514, 0.0007062421224190985], min_error = -0.035718334978497523\n",
      "r = 2.0, s = 0.5241, c = 169.41176470588235, e1 = 1.99, e2 = 127.05882352941177, z = 42.35294117647059, errors = [-0.035706662541514333, 0.008367130610537288, 0.019686529582031653, -0.001140502720488712, 0.03149420503592637, -0.024783850906203497, 0.009077761891205682, 0.023529392025054108, 0.0029609002745019097, -0.0011668646487805745, -0.0330643882880679, 0.0007198958661263077], maxError = -0.035706662541514333\n",
      "r_out = 8.675199386469073, s_out = 0.5240810650333936, c_out = 148.92895420324808, e1_out = 1.6120197451470566, e2_our = 148.9318624984065, z_out = 55.8389212681124, min_errors_list = [-0.035706662541514333, 0.008367130610537288, 0.019686529582031653, -0.001140502720488712, 0.03149420503592637, -0.024783850906203497, 0.009077761891205682, 0.023529392025054108, 0.0029609002745019097, -0.0011668646487805745, -0.0330643882880679, 0.0007198958661263077], min_error = -0.035706662541514333\n"
     ]
    }
   ],
   "source": [
    "r, s, c, e1, e2, z, errors, maxError = bestMarsOrbitParams(\n",
    "    times, oppositions\n",
    ")\n",
    "# print(\"BESTTTTTTTT ++++++ r = {:.4f}, s = {:.4f}, c = {:.4f}, e1 = {:.4f}, e2 = {:.4f}, z = {:.4f}, errors = {:.4f}, maxError = {:.4f}\".format(r, s, c, e1, e2, z, errors, maxError))"
   ]
  },
  {
   "cell_type": "code",
   "execution_count": 11,
   "metadata": {},
   "outputs": [
    {
     "name": "stdout",
     "output_type": "stream",
     "text": [
      "8.675199386469073 0.5240810650333936 148.92895420324808 1.6120197451470566 148.9318624984065 55.8389212681124 [-0.035706662541514333, 0.008367130610537288, 0.019686529582031653, -0.001140502720488712, 0.03149420503592637, -0.024783850906203497, 0.009077761891205682, 0.023529392025054108, 0.0029609002745019097, -0.0011668646487805745, -0.0330643882880679, 0.0007198958661263077] -0.035706662541514333\n"
     ]
    }
   ],
   "source": [
    "print(r, s, c, e1, e2, z, errors, maxError)"
   ]
  },
  {
   "cell_type": "code",
   "execution_count": 12,
   "metadata": {},
   "outputs": [
    {
     "name": "stdout",
     "output_type": "stream",
     "text": [
      "([38.87694898966258, 11.08923775550656, -14.628093633288671, -35.59304611309025, -44.72565400257386, -40.608917944413804, -335.1937108250888, 48.3366944724203, 21.730431020887153, -5.149253003535847, -28.433739746548838, -43.031740085938964], -335.1937108250888)\n"
     ]
    }
   ],
   "source": [
    "print(Erros_and_MaxError([169.41176470588235, 2.0, 1.99, 127.05882352941177, 42.35294117647059, 0.5241]))"
   ]
  },
  {
   "cell_type": "code",
   "execution_count": 13,
   "metadata": {},
   "outputs": [
    {
     "name": "stdout",
     "output_type": "stream",
     "text": [
      " message: Optimization terminated successfully.\n",
      " success: True\n",
      "  status: 0\n",
      "     fun: 0.004825371929075399\n",
      "       x: [ 1.489e+02  8.782e+00  1.632e+00  1.489e+02  5.584e+01\n",
      "            5.241e-01]\n",
      "     nit: 17\n",
      "   direc: [[-5.579e-02  1.840e-01 ... -3.941e-04  1.607e-06]\n",
      "           [-3.808e-02  1.621e-01 ... -9.841e-03  7.163e-07]\n",
      "           ...\n",
      "           [-2.374e+01 -9.049e-02 ...  2.091e-01 -1.468e-06]\n",
      "           [ 1.232e-02  3.173e-03 ...  3.768e-04 -1.665e-07]]\n",
      "    nfev: 1119\n"
     ]
    }
   ],
   "source": [
    "var = minimize(MarsEqantOrbit, [148, 8.3, 1.53, 148, 55, 0.5241], method=\"powell\")\n",
    "# print(list(var.x))\n",
    "print(var)\n"
   ]
  },
  {
   "cell_type": "code",
   "execution_count": 14,
   "metadata": {},
   "outputs": [
    {
     "name": "stdout",
     "output_type": "stream",
     "text": [
      "([-0.03862206514234856, 0.012569568930501873, 0.020253542373239952, -0.006529128711491694, 0.028952177698045034, -0.015037485061839106, 0.006165402557883226, 0.018156780105343273, 0.007866132480231158, 0.0035549499897342685, -0.034785215213332776, -0.002513591000621318], -0.03862206514234856)\n"
     ]
    }
   ],
   "source": [
    "print(Erros_and_MaxError(list(var.x)))"
   ]
  },
  {
   "cell_type": "code",
   "execution_count": 190,
   "metadata": {},
   "outputs": [
    {
     "name": "stdout",
     "output_type": "stream",
     "text": [
      "([-0.833438075566022, -0.8300544193568697, -0.8129183108358689, -0.8108639785334049, -0.7794864974327425, -0.8469764314899635, -0.6774906483511813, -0.6386615190639588, -0.7260193534535233, -0.7483269462380235, -0.7592596169581611, -0.7076371420461101], 0.8469764314899635)\n"
     ]
    }
   ],
   "source": [
    "print(sajdhfadsjkhfjkadshfkjaserrors([148, 8.2, 1.53, 148, 55, 0.5241]))"
   ]
  },
  {
   "cell_type": "code",
   "execution_count": 32,
   "metadata": {},
   "outputs": [
    {
     "name": "stdout",
     "output_type": "stream",
     "text": [
      "[89.99999945045343, 47.08010123473993, 25.790619735249706, 29.993284741195147, 70.00597935398527, 56.70338236351071, 38.52929856756008, 10.00180949603043, 49.99076144061323, 89.99999979098185]\n",
      "[296, 16.4, 3.06, 296, 110, 1.0482]\n"
     ]
    },
    {
     "name": "stderr",
     "output_type": "stream",
     "text": [
      "C:\\Users\\aadhi\\AppData\\Local\\Temp\\ipykernel_1964\\581368429.py:20: RuntimeWarning: The iteration is not making good progress, as measured by the \n",
      "  improvement from the last ten iterations.\n",
      "  t_solutions = fsolve(equations, initial_guess, args=(x1, y1, ray_direction[0], ray_direction[1], h, k, r))\n"
     ]
    }
   ],
   "source": [
    "import numpy as np\n",
    "from scipy.optimize import fsolve\n",
    "\n",
    "# Example values for center_of_orbit, equant_coords, and equant_longitudes\n",
    "center_of_orbit = (0, 0)\n",
    "equant_coords = (1, 1)\n",
    "equant_longitudes = np.linspace(0, 2 * np.pi, 10)  # Example values, replace with actual longitudes\n",
    "predicted_positions = []\n",
    "\n",
    "# Parameters of the orbit\n",
    "h, k, r = center_of_orbit[0], center_of_orbit[1], 1  # Example radius_of_orbit\n",
    "# Starting point of ray\n",
    "x1, y1 = equant_coords[0], equant_coords[1]\n",
    "# Direction of ray will be defined in the loop\n",
    "initial_guess = [0]\n",
    "\n",
    "for equant_long in equant_longitudes:\n",
    "    ray_direction = np.array([np.cos(equant_long), np.sin(equant_long)])  # Correctly create the array\n",
    "    # Find the intersection of the line with the orbit\n",
    "    t_solutions = fsolve(equations, initial_guess, args=(x1, y1, ray_direction[0], ray_direction[1], h, k, r))\n",
    "    intersection_point_x, intersection_point_y = ray(x1, y1, ray_direction[0], ray_direction[1], t_solutions[0])\n",
    "    predicted_angle = np.degrees(np.arctan2(intersection_point_y, intersection_point_x))\n",
    "    predicted_positions.append(predicted_angle)\n",
    "\n",
    "print(predicted_positions)\n",
    "\n",
    "# Example implementation of get_errors function\n",
    "def get_errors(params):\n",
    "    # Example implementation, replace with your actual logic\n",
    "    return [param * 2 for param in params]\n",
    "\n",
    "# Call the get_errors function with the specified parameters\n",
    "errors = get_errors([148, 8.2, 1.53, 148, 55, 0.5241])\n",
    "\n",
    "# Print the output\n",
    "print(errors)"
   ]
  },
  {
   "cell_type": "code",
   "execution_count": 98,
   "metadata": {},
   "outputs": [],
   "source": [
    "def get_errors(x):\n",
    "    \"\"\"Calculates the discrepancies for the given parameters.\"\"\"\n",
    "    c, r, e1, e2, z, s = x\n",
    "    errors = []\n",
    "    center_of_orbit = (np.cos(c), np.sin(c))\n",
    "    equant_coords = (e1*np.cos(e2), e1*np.sin(e2))\n",
    "    equant_longitudes = []\n",
    "    for i in times:\n",
    "        equant_long = z + s * (i - times[0])\n",
    "        equant_longitudes.append(equant_long)\n",
    "    equant_longitudes = np.array(equant_longitudes)\n",
    "    \n",
    "    predicted_positions = []\n",
    "\n",
    "    # Parameters of the orbit\n",
    "    h, k = center_of_orbit[0], center_of_orbit[1] # Example radius_of_orbit\n",
    "    # Starting point of ray\n",
    "    x1, y1 = equant_coords[0], equant_coords[1]\n",
    "    # Direction of ray will be defined in the loop\n",
    "    initial_guess = [0]\n",
    "\n",
    "    for equant_long in equant_longitudes:\n",
    "        ray_direction = np.array([np.cos(equant_long), np.sin(equant_long)])\n",
    "        # Find the intersection of the line with the orbit\n",
    "        t_solutions = fsolve(equations, initial_guess, args=(x1, y1, ray_direction[0], ray_direction[1], h, k, r))\n",
    "        intersection_point_x, intersection_point_y = ray(x1, y1, ray_direction[0], ray_direction[1], t_solutions[0])\n",
    "        predicted_angle = np.degrees(np.arctan2(intersection_point_y, intersection_point_x))\n",
    "        predicted_positions.append(predicted_angle)\n",
    "    # print(predicted_positions)\n",
    "    # for i in range(len(times)):\n",
    "    #     equant_long = z + s * (times[i] - times[0])\n",
    "    #     opposition_angle = oppositions[i][0]\n",
    "    #     ray_direction = np.array(np.cos(equant_long), np.sin(equant_long))\n",
    "    #     initial_guess = [0]\n",
    "    #     t_solutions = fsolve(equations, initial_guess, args=(equant_coords[0], equant_coords[1], ray_direction[0], ray_direction[1], center_of_orbit[0], center_of_orbit[1], r))\n",
    "    #     intersection_point_x, intersection_point_y = ray(equant_coords[0], equant_coords[1], ray_direction[0], ray_direction[1], t_solutions[0])\n",
    "    #     predicted_angle = np.degrees(np.arctan2(intersection_point_y, intersection_point_x))\n",
    "    #     errors.append(predicted_angle - opposition_angle)\n",
    "    errors = []\n",
    "    for i in range(len(predicted_positions)):\n",
    "        if predicted_positions[i] < 0:\n",
    "            # number_of_rotations = int(-predicted_positions[i] / 360) + 1\n",
    "            predicted_positions[i] += 360\n",
    "        error = predicted_positions[i] - oppositions[i][0]\n",
    "        errors.append(error)\n",
    "    # print(errors)\n",
    "    # max_error = 0\n",
    "    # for j in errors:\n",
    "    #     if abs(j) > max_error:\n",
    "    #         max_error = abs(j)\n",
    "    \n",
    "    predicted = np.array(predicted_positions)\n",
    "    actual = np.array([oppositions[i][0] for i in range(len(oppositions))])\n",
    "    squared_error = np.sum((predicted - actual)**2)\n",
    "    return squared_error"
   ]
  },
  {
   "cell_type": "code",
   "execution_count": 122,
   "metadata": {},
   "outputs": [],
   "source": [
    "def something(x):\n",
    "    c, r, e1, e2, z, s = x\n",
    "    c = np.radians(c)\n",
    "    e2 = np.radians(e2)\n",
    "    errors = []\n",
    "    center_of_orbit = (np.cos(c), np.sin(c))\n",
    "    equant_coords = (e1*np.cos(e2), e1*np.sin(e2))\n",
    "    equant_longitudes = []\n",
    "    for i in times:\n",
    "        equant_long = z + s * (i - times[0])\n",
    "        equant_long = np.radians(equant_long)\n",
    "        equant_longitudes.append(equant_long)\n",
    "    equant_longitudes = np.array(equant_longitudes)\n",
    "    print(f'equant_longitudes = {equant_longitudes}')\n",
    "    predicted_positions = []\n",
    "\n",
    "    # Parameters of the orbit\n",
    "    h, k = center_of_orbit[0], center_of_orbit[1] # Example radius_of_orbit\n",
    "    # Starting point of ray\n",
    "    x1, y1 = equant_coords[0], equant_coords[1]\n",
    "    # Direction of ray will be defined in the loop\n",
    "    initial_guess = [0]\n",
    "\n",
    "    for equant_long in equant_longitudes:\n",
    "        predicted_x = quad_form(e1, e2, c, equant_long, r)\n",
    "        predicted_y = equation3(e1, e2, equant_long, predicted_x)\n",
    "        predicted_angle = np.degrees(np.arctan2(predicted_y, predicted_x))\n",
    "        predicted_positions.append(predicted_angle)\n",
    "        '''x_guess = 0\n",
    "        x_solution = fsolve(equation2, x_guess, args=(c, e1, e2, z, r))\n",
    "        predicted_x = x_solution[0]\n",
    "        predicted_y = equation3(e1, e2, z, predicted_x)\n",
    "        predicted_angle = np.degrees(np.arctan2(predicted_y, predicted_x))\n",
    "        predicted_positions.append(predicted_angle)'''\n",
    "        # ray_direction = [np.cos(equant_long), np.sin(equant_long)]\n",
    "        # Find the intersection of the line with the orbit\n",
    "        # t_solutions = fsolve(equations, initial_guess, args=(x1, y1, ray_direction[0], ray_direction[1], h, k, r))\n",
    "        # t_solutions = [t for t in t_solutions if t >= 0]\n",
    "        # if t_solutions:\n",
    "        #     t = min(t_solutions)\n",
    "        #     intersection_point_x, intersection_point_y = ray(x1, y1, ray_direction[0], ray_direction[1], t)\n",
    "        #     predicted_angle = np.degrees(np.arctan2(intersection_point_y, intersection_point_x))\n",
    "        #     predicted_positions.append(predicted_angle)\n",
    "        # print(f't_solutions = {t_solutions}')\n",
    "        # intersection_point_x, intersection_point_y = ray(x1, y1, ray_direction[0], ray_direction[1], t_solutions[0])\n",
    "        # print(f'intersection_point_x = {intersection_point_x}')\n",
    "        # print(f'intersection_point_y = {intersection_point_y}')\n",
    "        # predicted_angle = np.degrees(np.arctan2(intersection_point_y, intersection_point_x))\n",
    "        # predicted_positions.append(predicted_angle)\n",
    "    print(f'predicted_positions = {predicted_positions}')\n",
    "    # for i in range(len(times)):\n",
    "    #     equant_long = z + s * (times[i] - times[0])\n",
    "    #     opposition_angle = oppositions[i][0]\n",
    "    #     ray_direction = np.array(np.cos(equant_long), np.sin(equant_long))\n",
    "    #     initial_guess = [0]\n",
    "    #     t_solutions = fsolve(equations, initial_guess, args=(equant_coords[0], equant_coords[1], ray_direction[0], ray_direction[1], center_of_orbit[0], center_of_orbit[1], r))\n",
    "    #     intersection_point_x, intersection_point_y = ray(equant_coords[0], equant_coords[1], ray_direction[0], ray_direction[1], t_solutions[0])\n",
    "    #     predicted_angle = np.degrees(np.arctan2(intersection_point_y, intersection_point_x))\n",
    "    #     errors.append(predicted_angle - opposition_angle)\n",
    "    errors = []\n",
    "    for i in range(len(predicted_positions)):\n",
    "        if predicted_positions[i] < 0:\n",
    "            # number_of_rotations = int(-predicted_positions[i] / 360) + 1\n",
    "            predicted_positions[i] += 360\n",
    "        error = predicted_positions[i] - oppositions[i][0]\n",
    "        print(f'predicted_positions[i] = {predicted_positions[i]}')\n",
    "        print(f'oppositions[i][0] = {oppositions[i][0]}')\n",
    "        print(f'error = {error}')\n",
    "        errors.append(error)\n",
    "    # print(f'after predicted_positions = {predicted_positions}')\n",
    "    # print(f'errors = {errors}')\n",
    "    max_error = 0\n",
    "    for j in errors:\n",
    "        if abs(j) > max_error:\n",
    "            max_error = abs(j)\n",
    "    return errors, max_error"
   ]
  },
  {
   "cell_type": "code",
   "execution_count": 123,
   "metadata": {},
   "outputs": [
    {
     "name": "stdout",
     "output_type": "stream",
     "text": [
      "equant_longitudes = [ 0.95993109  8.00426324 14.99859667 21.99174222 29.03475945 36.21587506\n",
      " 43.61972671 50.9036983  57.98943456 64.99559591 71.98418053 79.00096289]\n",
      "predicted_positions = [40.92245477297909, 96.28576431041229, -38.25874334317069, -3.7610564407275398, 32.90701494886947, 93.38969172091397, -21.554396494857027, 27.27622016586421, -95.16915122650961, -50.274216932730226, -17.152763711991305, 18.795209031818263]\n",
      "predicted_positions[i] = 40.92245477297909\n",
      "oppositions[i][0] = 66.47638888888889\n",
      "error = -25.553934115909804\n",
      "predicted_positions[i] = 96.28576431041229\n",
      "oppositions[i][0] = 106.92500000000001\n",
      "error = -10.639235689587721\n",
      "predicted_positions[i] = 321.7412566568293\n",
      "oppositions[i][0] = 141.60277777777776\n",
      "error = 180.13847887905155\n",
      "predicted_positions[i] = 356.23894355927246\n",
      "oppositions[i][0] = 175.71666666666667\n",
      "error = 180.5222768926058\n",
      "predicted_positions[i] = 32.90701494886947\n",
      "oppositions[i][0] = 214.38333333333333\n",
      "error = -181.47631838446387\n",
      "predicted_positions[i] = 93.38969172091397\n",
      "oppositions[i][0] = 266.71666666666664\n",
      "error = -173.32697494575268\n",
      "predicted_positions[i] = 338.44560350514297\n",
      "oppositions[i][0] = 342.26666666666665\n",
      "error = -3.821063161523682\n",
      "predicted_positions[i] = 27.27622016586421\n",
      "oppositions[i][0] = 47.52777777777778\n",
      "error = -20.25155761191357\n",
      "predicted_positions[i] = 264.8308487734904\n",
      "oppositions[i][0] = 92.46666666666667\n",
      "error = 172.36418210682373\n",
      "predicted_positions[i] = 309.7257830672698\n",
      "oppositions[i][0] = 128.63333333333333\n",
      "error = 181.09244973393646\n",
      "predicted_positions[i] = 342.8472362880087\n",
      "oppositions[i][0] = 162.45\n",
      "error = 180.39723628800868\n",
      "predicted_positions[i] = 18.795209031818263\n",
      "oppositions[i][0] = 198.61944444444444\n",
      "error = -179.82423541262617\n",
      "([-25.553934115909804, -10.639235689587721, 180.13847887905155, 180.5222768926058, -181.47631838446387, -173.32697494575268, -3.821063161523682, -20.25155761191357, 172.36418210682373, 181.09244973393646, 180.39723628800868, -179.82423541262617], 181.47631838446387)\n"
     ]
    }
   ],
   "source": [
    "print(something([148, 8.2, 1.53, 148, 55, 0.5241]))"
   ]
  },
  {
   "cell_type": "code",
   "execution_count": 160,
   "metadata": {},
   "outputs": [
    {
     "name": "stdout",
     "output_type": "stream",
     "text": [
      "Predicted angle:  59.20198448120655\n",
      "Actual angle:  66.47638888888889\n",
      "Predicted angle:  121.94101808168354\n",
      "Actual angle:  106.92500000000001\n",
      "Predicted angle:  172.3037713001574\n",
      "Actual angle:  141.60277777777776\n",
      "Predicted angle:  64.63808978403576\n",
      "Actual angle:  175.71666666666667\n",
      "Predicted angle:  126.98477149945818\n",
      "Actual angle:  214.38333333333333\n",
      "Predicted angle:  153.36406679237493\n",
      "Actual angle:  266.71666666666664\n",
      "Predicted angle:  7.811773736916643e-06\n",
      "Actual angle:  342.26666666666665\n",
      "Predicted angle:  25.475310791551994\n",
      "Actual angle:  47.52777777777778\n",
      "Predicted angle:  81.48525506357183\n",
      "Actual angle:  92.46666666666667\n",
      "Predicted angle:  146.20561771697726\n",
      "Actual angle:  128.63333333333333\n",
      "Predicted angle:  24.575192338196565\n",
      "Actual angle:  162.45\n",
      "Predicted angle:  89.45036415200053\n",
      "Actual angle:  198.61944444444444\n",
      "([-7.27440440768234, 15.016018081683526, 30.700993522379633, -111.07857688263091, -87.39856183387515, -113.35259987429171, -342.2666588548929, -22.052466986225784, -10.981411603094841, 17.572284383643932, -137.87480766180343, -109.16908029244391], 342.2666588548929)\n"
     ]
    }
   ],
   "source": [
    "print(sajdhfadsjkhfjkadshfkjaserrors([229.29486885, 20.02190621, 2.7866114, 217.48526987, 56.47213594,-1.09393048]))"
   ]
  }
 ],
 "metadata": {
  "kernelspec": {
   "display_name": "mars_orbit",
   "language": "python",
   "name": "python3"
  },
  "language_info": {
   "codemirror_mode": {
    "name": "ipython",
    "version": 3
   },
   "file_extension": ".py",
   "mimetype": "text/x-python",
   "name": "python",
   "nbconvert_exporter": "python",
   "pygments_lexer": "ipython3",
   "version": "3.9.19"
  }
 },
 "nbformat": 4,
 "nbformat_minor": 2
}
